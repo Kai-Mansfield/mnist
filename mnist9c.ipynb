{
 "cells": [
  {
   "cell_type": "code",
   "execution_count": 1,
   "metadata": {},
   "outputs": [],
   "source": [
    "import torch\n",
    "import torchvision\n",
    "import torchvision.transforms as transforms\n",
    "from torch.utils.data import DataLoader\n",
    "\n",
    "# Define data transformations (convert images to tensors & normalize)\n",
    "transform = transforms.Compose([\n",
    "    transforms.ToTensor(),\n",
    "    transforms.Normalize((0.5,), (0.5,))  # Normalize pixel values to [-1, 1]\n",
    "])\n",
    "\n",
    "# Download MNIST dataset\n",
    "train_dataset = torchvision.datasets.MNIST(root=\"./data\", train=True, transform=transform, download=True)\n",
    "test_dataset = torchvision.datasets.MNIST(root=\"./data\", train=False, transform=transform, download=True)\n",
    "\n",
    "# Create data loaders\n",
    "train_loader = DataLoader(train_dataset, batch_size=64, shuffle=True)\n",
    "test_loader = DataLoader(test_dataset, batch_size=64, shuffle=False)"
   ]
  },
  {
   "cell_type": "code",
   "execution_count": 28,
   "metadata": {},
   "outputs": [
    {
     "name": "stdout",
     "output_type": "stream",
     "text": [
      "Parameter containing:\n",
      "tensor([ 1.8380e+00,  5.5357e-01,  1.1535e+00,  2.7591e+00,  4.9574e-01,\n",
      "         6.2476e-01,  9.0559e-01,  4.7285e-01, -7.7836e-01,  1.4725e+00,\n",
      "        -8.5310e-01, -1.1242e+00, -4.2509e-01,  1.9954e+00,  1.3224e+00,\n",
      "        -1.2166e+00,  7.0363e-01,  4.0551e-01,  8.3154e-03,  1.7959e+00,\n",
      "        -7.4149e-01, -1.3418e-01, -3.9223e-01, -1.0468e+00, -1.0611e+00,\n",
      "         1.8926e+00, -6.2521e-01, -1.5432e+00,  2.2344e+00,  1.2559e+00,\n",
      "         7.3324e-01, -1.3825e-01, -5.7618e-01, -7.7169e-02, -2.6156e+00,\n",
      "         3.8954e-01, -2.8627e-01, -7.1167e-01,  1.2902e+00,  4.7400e-01,\n",
      "         1.0051e+00,  6.7694e-01,  1.3762e-01,  5.6158e-03, -7.5133e-01,\n",
      "        -5.6752e-01, -7.8061e-01,  6.1740e-01,  1.6776e+00,  1.3718e+00,\n",
      "        -4.2293e-01, -2.1519e+00,  2.4071e+00, -2.7544e-01, -3.0617e-02,\n",
      "         1.5787e-02, -1.0421e-01, -4.7981e-01, -4.6016e-01, -1.3742e-01,\n",
      "        -1.1334e+00, -5.3344e-01, -5.3080e-01, -3.2067e-01,  7.1205e-01,\n",
      "        -7.7611e-01, -6.6827e-01, -7.2566e-01, -1.8073e+00,  7.3085e-01,\n",
      "         6.0434e-01, -3.3687e-02,  9.4163e-01,  6.5238e-01, -9.1871e-01,\n",
      "        -2.0188e+00, -4.8002e-01, -5.5096e-01,  2.1971e-01, -5.6825e-01,\n",
      "        -1.4518e+00,  2.2472e-01,  9.0441e-01, -8.8948e-01, -9.2184e-01,\n",
      "        -9.0820e-01, -2.6606e+00,  3.9328e-01, -6.0409e-01,  3.9870e-01,\n",
      "        -1.5889e-01,  2.1995e-01,  7.1585e-01,  5.8530e-01,  2.4598e-01,\n",
      "        -4.3314e-01, -2.5761e-02, -4.2756e-01,  2.2482e+00,  8.0192e-01,\n",
      "         1.7460e+00, -1.4925e-01, -3.7216e-01, -2.1032e-02,  5.4381e-01,\n",
      "         9.4249e-01, -1.5996e+00,  1.3142e+00,  8.2676e-01, -3.7076e-01,\n",
      "         6.3360e-01, -6.1071e-01, -8.1096e-01, -5.1123e-01, -8.9865e-01,\n",
      "        -8.7331e-01,  8.4615e-01,  4.8319e-01, -9.1591e-01, -4.6939e-01,\n",
      "        -1.1493e+00, -9.4129e-01,  1.2206e+00,  2.4846e+00,  1.3995e+00,\n",
      "         4.3073e-01, -1.1356e+00, -6.6514e-01, -2.2943e-01, -1.8831e+00,\n",
      "         7.8521e-01,  2.9741e+00,  2.3608e-01,  9.3232e-01, -8.2786e-01,\n",
      "        -1.1427e-01,  7.1044e-02,  3.1398e-01,  1.0948e+00, -7.0172e-01,\n",
      "        -8.4398e-02, -3.9739e-01, -1.8732e-01, -7.3604e-02,  1.3397e+00,\n",
      "        -5.4602e-01, -9.5229e-01, -3.4337e-01,  5.6153e-01,  1.7633e+00,\n",
      "         2.2235e+00,  4.5512e-01, -1.3104e+00,  1.4734e+00, -5.8569e-01,\n",
      "        -9.9768e-01, -9.3820e-01, -5.0872e-01,  6.0983e-01, -3.1021e-01,\n",
      "        -3.9681e-02, -5.8545e-01,  9.4521e-01, -1.0227e-01, -1.0247e+00,\n",
      "         7.0743e-01, -1.2718e-02,  8.0745e-02,  5.6176e-01,  1.1385e+00,\n",
      "        -4.2521e-01,  1.8548e+00, -1.2729e+00, -9.2109e-02, -2.0179e-02,\n",
      "        -1.6343e+00, -4.9685e-02, -2.5271e-01, -1.8083e+00, -9.4619e-02,\n",
      "         1.2113e-01,  2.6270e+00, -4.8265e-01,  2.1638e+00, -2.0490e-01,\n",
      "        -9.2639e-01,  9.9163e-01,  8.5086e-01, -1.4746e+00, -6.6769e-01,\n",
      "        -7.2298e-01,  8.1310e-01, -1.8871e+00, -1.3514e+00,  6.2944e-01,\n",
      "         1.2095e+00, -7.6484e-01,  1.3085e-01,  9.2240e-01, -4.0819e-01,\n",
      "         4.6719e-01,  3.3642e-01,  1.1793e-01,  2.9947e-01,  2.0212e+00,\n",
      "        -7.5487e-01, -4.7865e-02,  1.6546e-01, -6.4459e-01,  1.4675e+00,\n",
      "        -1.4797e-01,  9.7038e-03, -2.1373e+00,  1.8234e-01, -1.0105e+00,\n",
      "        -1.6424e-01,  6.8224e-01, -4.5315e-01, -8.0616e-01, -1.0160e+00,\n",
      "         1.3417e-01,  3.1433e-01,  6.0834e-01, -5.6426e-01,  1.1462e+00,\n",
      "         8.1322e-01,  7.4100e-03,  3.1107e-01,  8.4477e-01,  6.0682e-01,\n",
      "        -6.6314e-01,  8.9698e-01,  8.7065e-01,  1.2682e+00, -2.2342e-01,\n",
      "        -2.5261e+00,  3.6902e-02, -1.8617e+00, -1.2103e+00,  1.3648e+00,\n",
      "        -1.3758e+00,  1.8030e-01,  3.6860e-02, -8.7623e-01,  1.0153e+00,\n",
      "        -5.0296e-01,  7.0776e-01,  6.0073e-01, -8.0667e-01, -1.8393e-01,\n",
      "        -9.4699e-01, -9.9055e-01,  2.2679e-01, -8.5519e-01,  1.5827e+00,\n",
      "        -8.3325e-02,  1.3261e+00, -8.7915e-01,  1.1806e+00,  9.6979e-01,\n",
      "        -1.1907e-01, -6.7903e-01, -1.8305e-01,  5.8230e-01,  5.6324e-01,\n",
      "         2.3179e+00,  3.0115e-01,  2.3181e-01, -7.1439e-03, -1.3730e+00,\n",
      "        -9.8486e-01, -5.7986e-01,  2.4771e+00, -1.0857e+00, -7.1190e-03,\n",
      "         1.1070e+00, -9.1334e-01, -1.1151e-02,  1.5327e-01, -7.3808e-02,\n",
      "         7.0855e-02, -5.3085e-01,  5.9474e-01, -1.8710e+00,  2.7365e-01,\n",
      "         7.4281e-01,  1.1697e+00, -8.2172e-01,  2.2005e-01, -1.3195e+00,\n",
      "         4.2707e-01, -1.6507e+00,  2.0242e-01, -5.7979e-03, -1.4490e+00,\n",
      "        -6.9834e-01,  1.0355e+00,  6.0694e-01, -2.2779e-01, -7.9091e-01,\n",
      "        -1.2406e-01,  2.9070e-01,  2.2761e-01, -1.5960e+00,  4.3856e-01,\n",
      "         8.0001e-01, -5.9736e-01,  1.4153e+00, -7.8788e-01,  5.1624e-01,\n",
      "        -9.6754e-01, -2.6405e-01,  4.9943e-01, -2.4866e+00,  2.0794e-02,\n",
      "         1.8832e+00, -1.3027e+00,  3.0565e-01,  4.9688e-01,  1.4584e-01,\n",
      "        -1.2953e-01,  3.0215e-01,  1.5131e-02,  2.2942e-01,  4.7858e-01,\n",
      "         4.1609e-01, -4.1411e-01,  3.3739e-01, -6.6273e-01, -1.4079e+00,\n",
      "        -4.2299e-01,  4.6906e-01,  2.0616e-01, -1.7028e+00,  1.8698e+00,\n",
      "         5.9714e-01,  7.0473e-02,  1.2677e+00,  7.4611e-01,  1.3750e+00,\n",
      "         2.5390e-01,  6.9122e-01,  1.1999e+00, -8.1275e-02, -7.4346e-01,\n",
      "         8.4916e-01, -7.8722e-01,  8.1789e-02,  7.4021e-01,  1.0037e+00,\n",
      "         5.3442e-01, -1.0061e+00, -1.1180e+00, -8.1225e-01, -1.0392e+00,\n",
      "        -7.8164e-01,  6.8781e-01,  1.0021e+00, -5.4337e-01,  3.7975e-01,\n",
      "        -1.4574e-01,  1.1970e-01, -5.4123e-01,  7.5932e-01, -1.9851e+00,\n",
      "        -3.5001e-02,  1.4331e+00, -2.3066e-01,  6.4342e-01, -9.5579e-01,\n",
      "         8.3776e-01, -7.1128e-01,  6.0587e-01,  1.1106e+00,  8.4861e-01,\n",
      "         4.8572e-01,  1.2307e+00, -2.0719e+00, -6.7542e-01, -8.9260e-01,\n",
      "        -8.1726e-01,  1.7898e-01, -5.8736e-02, -1.3663e+00, -9.7657e-01,\n",
      "         6.8571e-01,  5.3386e-01,  7.6699e-02, -4.3058e-02, -6.9038e-02,\n",
      "        -8.8688e-01,  1.4048e-01, -5.3441e-02,  6.9185e-01, -7.7064e-01,\n",
      "         3.2680e-01,  5.4739e-01,  9.1782e-01,  7.6571e-01, -1.2819e+00,\n",
      "        -1.1122e+00,  1.7819e+00,  5.5547e-01, -1.7609e+00, -5.0315e-01,\n",
      "         2.4689e-01, -1.0109e+00,  1.0102e+00, -1.3465e-01, -4.6370e-01,\n",
      "         1.5919e+00,  8.2624e-01,  2.7354e-01,  1.2797e+00,  8.1331e-01,\n",
      "         1.0514e-01,  1.1276e+00,  6.1192e-02,  1.9436e-01,  5.9938e-01,\n",
      "        -6.8433e-01,  9.1706e-02,  1.6202e-01, -6.0047e-01, -6.3558e-01,\n",
      "        -8.0426e-01,  4.1353e-02,  5.1458e-01, -1.6870e-01,  2.3204e-01,\n",
      "         4.3205e-01,  2.1042e-02, -6.6936e-01, -1.1760e-01,  1.2302e+00,\n",
      "         1.3154e+00,  1.3517e+00, -7.7564e-02, -2.3576e+00, -3.2631e-01,\n",
      "         2.8395e+00, -1.4565e-01, -8.4846e-01,  3.5949e-02, -4.6131e-01,\n",
      "        -5.7466e-01, -5.7822e-02, -7.1107e-01, -7.8905e-01,  1.7429e+00,\n",
      "        -1.3287e-01, -5.0516e-01, -4.7473e-01,  2.4399e-01, -8.6032e-01,\n",
      "         1.6363e-01,  7.0029e-01,  5.2607e-01,  2.8339e-01, -1.6228e-01,\n",
      "         5.0470e-01, -7.0241e-01, -4.6036e-01,  4.7812e-01,  2.0487e-01,\n",
      "        -5.4479e-01, -1.9812e+00, -1.5473e+00,  1.9567e+00, -8.8700e-02,\n",
      "        -9.2804e-02,  2.4980e-01, -2.4831e+00, -1.8096e-01, -2.2059e-01,\n",
      "        -1.5526e-01, -5.2066e-01, -1.7863e+00, -8.4380e-02, -9.6953e-01,\n",
      "         1.1007e+00,  5.0695e-01,  1.0648e+00, -1.9189e+00, -1.3620e+00,\n",
      "         7.6847e-01,  6.6714e-01, -1.7416e+00,  2.2814e-01, -9.8388e-01,\n",
      "         1.5507e+00, -2.0915e+00,  1.2495e+00, -7.5643e-01, -1.3293e+00,\n",
      "        -4.3432e-01, -8.4038e-01, -7.9575e-01,  4.1747e-01,  1.4498e+00,\n",
      "        -1.5740e+00,  4.0277e-01,  1.4015e+00, -3.7832e-02, -1.8525e+00,\n",
      "         8.3541e-01, -9.4836e-01, -1.0398e+00, -8.2530e-01,  1.7270e-01,\n",
      "         5.4527e-01,  2.9974e-01,  2.9409e-01, -1.2048e+00, -1.3813e-01,\n",
      "         6.8947e-01, -5.4212e-01, -2.5405e-01,  1.4529e+00, -7.3658e-01,\n",
      "        -7.1702e-01,  6.8176e-01,  1.0801e+00, -1.1160e+00, -7.4389e-01,\n",
      "        -2.0137e-01, -1.7519e-02, -1.0501e+00,  6.1890e-03, -1.7322e+00,\n",
      "         5.2483e-01, -1.9237e+00,  1.1767e+00, -9.9302e-01, -3.0085e-01,\n",
      "        -1.0641e-01, -6.8063e-01,  1.0672e+00, -3.8100e-01, -2.3570e-02,\n",
      "         9.1265e-01, -3.8459e-01,  7.3497e-01,  1.5193e+00,  1.4756e+00,\n",
      "         9.3530e-02,  1.0986e+00, -5.3942e-01,  5.8406e-01,  9.0139e-01,\n",
      "         3.3275e-01,  7.2318e-01,  1.0297e+00, -3.7360e-01, -4.8767e-01,\n",
      "        -6.8802e-01,  4.0233e-01, -1.0453e+00,  9.1460e-01,  9.2983e-02,\n",
      "        -4.7741e-01,  1.1391e+00,  6.8821e-01, -9.2999e-01,  7.4861e-01,\n",
      "        -5.8121e-01, -1.6177e+00,  9.2927e-01, -8.6425e-01,  2.0794e+00,\n",
      "         7.8184e-01, -1.4488e+00, -4.9985e-01,  1.0296e+00, -2.5997e-01,\n",
      "        -1.2715e+00, -5.2297e-01, -4.9037e-01,  8.3603e-01, -2.0668e+00,\n",
      "        -1.2406e+00, -9.3380e-01,  5.9614e-01, -1.5862e+00,  2.7133e-01,\n",
      "         4.5015e-01,  3.9763e-02, -1.5877e+00,  8.7931e-01,  7.5434e-03,\n",
      "        -1.2964e+00, -1.1558e+00,  2.4503e-02,  1.5765e+00, -1.3338e+00,\n",
      "         1.8029e+00,  4.4419e-01,  5.9263e-01, -5.3815e-01, -4.6821e-01,\n",
      "        -3.9812e-01,  1.0100e+00,  7.1905e-01,  1.1331e+00,  1.3438e+00,\n",
      "        -1.5612e+00,  1.7768e-01,  3.0386e-01,  4.2132e-01,  6.5244e-02,\n",
      "        -4.4981e-01,  5.4946e-01, -3.4680e-01,  8.6477e-02,  6.7245e-01,\n",
      "        -1.2816e+00, -5.1917e-01, -5.1084e-01, -1.0114e+00,  3.8011e-01,\n",
      "         1.1571e+00, -4.8760e-02, -4.4975e-01, -6.5524e-01,  7.1892e-01,\n",
      "        -9.4973e-01, -1.1080e+00,  4.0773e-01, -6.3850e-01,  1.4105e+00,\n",
      "        -6.0219e-02,  6.3712e-01, -1.6678e+00,  3.2146e-01, -7.2871e-01,\n",
      "         1.1697e+00, -6.0834e-01, -6.0549e-01,  1.7318e+00,  2.3136e-01,\n",
      "         6.4368e-01,  4.9633e-01, -1.9710e+00,  4.5120e-01, -1.9506e+00,\n",
      "         4.3003e-01, -3.0196e-02, -9.8466e-01, -1.5586e-01,  1.4557e+00,\n",
      "         5.6793e-01,  1.7732e+00,  1.0256e+00,  6.2544e-01,  2.5083e-01,\n",
      "         1.2091e+00, -1.1819e-01, -7.5250e-01,  1.6499e+00, -1.1535e+00,\n",
      "        -3.0305e-02, -2.3016e-01,  1.9231e-01, -1.3314e+00,  1.2028e+00,\n",
      "        -1.7088e-01, -7.6609e-01,  5.6880e-01,  1.5529e-01, -1.0039e+00,\n",
      "         8.8045e-01, -2.3948e-01, -5.3208e-01,  9.1209e-01,  1.6170e+00,\n",
      "         6.5056e-02,  7.0005e-01,  2.6958e-01, -8.7081e-01, -5.1517e-01,\n",
      "         2.1624e-01, -7.6808e-01,  5.5887e-01, -1.6206e-01,  6.8148e-01,\n",
      "         9.1830e-01, -1.8106e-01,  1.2462e+00, -5.5977e-01,  1.9530e-01,\n",
      "        -1.3938e+00, -2.4416e-01, -7.6868e-01, -1.7783e+00,  2.3118e+00,\n",
      "         4.2663e-02, -1.8184e-01, -6.6002e-01,  1.1188e-01,  1.7525e+00,\n",
      "        -1.4382e+00,  7.0896e-01, -1.0925e+00, -6.2825e-01,  1.1503e+00,\n",
      "         1.5442e-01,  1.9647e-01, -5.6710e-01,  3.8125e-01, -1.3326e+00,\n",
      "         3.8066e-01, -1.5253e+00, -1.5870e-01,  3.1873e-02,  1.0883e+00,\n",
      "         2.2218e-01, -1.6752e+00,  5.2787e-01, -5.3862e-01,  4.8489e-01,\n",
      "        -2.3346e-02, -1.0349e-01, -9.4376e-01,  8.6899e-02, -6.8627e-01,\n",
      "         2.5618e-01,  2.1381e-01, -1.1268e+00, -3.4155e-01,  1.0349e+00,\n",
      "        -1.8571e-02,  3.3792e-01, -2.1272e+00,  6.6490e-01, -1.3115e+00,\n",
      "        -5.6474e-01, -9.1458e-01, -2.2718e-01, -5.6002e-01, -1.8550e-01,\n",
      "        -2.5977e+00,  4.8741e-01,  2.4844e-01,  1.9310e-01, -8.8174e-01,\n",
      "        -1.7995e+00, -2.1974e-03, -1.4608e+00, -8.2342e-01,  9.4633e-01,\n",
      "         1.6962e+00,  1.3901e+00,  3.3321e-02, -2.6510e-01, -6.9424e-01,\n",
      "        -6.5959e-01, -1.3509e+00, -2.9829e-01, -5.1072e-01, -1.0486e+00,\n",
      "         9.2537e-02, -1.2133e+00,  2.3622e-01, -9.8096e-01, -6.7261e-02,\n",
      "        -3.6707e-01,  1.7773e+00,  5.2471e-01,  1.0232e+00, -4.4098e-01,\n",
      "         4.5506e-01, -5.9899e-01,  7.1570e-01,  1.4204e+00,  4.2868e-01,\n",
      "        -5.3234e-01,  1.0854e-01,  4.6492e-01,  1.3231e+00,  8.1241e-01,\n",
      "         1.1509e+00, -9.9726e-01, -8.1262e-01,  1.6699e+00],\n",
      "       requires_grad=True)\n"
     ]
    }
   ],
   "source": [
    "import torch\n",
    "import torch.nn as nn\n",
    "import torch.nn.functional as F\n",
    "\n",
    "class MNIST_Net(nn.Module):\n",
    "    def __init__(self):\n",
    "        super(MNIST_Net, self).__init__()\n",
    "        self.l2 = nn.Linear(28 * 28, 128, bias=True)  # Input: 784 → Hidden: 128\n",
    "        self.l3 = nn.Linear(128, 64, bias=True)       # Hidden: 128 → Hidden: 64\n",
    "        self.l4 = nn.Linear(64, 10, bias=True)        # Hidden: 64 → Output: 10\n",
    "\n",
    "        # Unique weights for each of the 784 input activations\n",
    "        self.custom_weights = nn.Parameter(torch.randn(28 * 28))  # Shape: (784,)\n",
    "        print(self.custom_weights)\n",
    "\n",
    "    def forward(self, im):\n",
    "        \n",
    "        l1 = im.view(-1, 28 * 28) \n",
    "\n",
    "        l2 = F.relu(self.l2(l1))\n",
    "\n",
    "        l3 = torch.matmul(l2, self.l3.weight.T)\n",
    "        weighted_sum = (self.custom_weights * l1).sum(dim=1) \n",
    "        l3[:, 0] += weighted_sum \n",
    "        l3 += self.l3.bias \n",
    "        l3 = F.relu(l3)\n",
    "\n",
    "        l4 = self.l4(l3)\n",
    "        \n",
    "        return l4\n",
    "\n",
    "# Initialize model\n",
    "model = MNIST_Net()\n",
    "device = torch.device(\"cuda\" if torch.cuda.is_available() else \"cpu\")\n",
    "model.to(device)\n",
    "\n",
    "# Create dummy input for debugging\n",
    "dummy_input = torch.randn(2, 1, 28, 28)  # Batch size 2, 1 channel, 28x28 i(mage\n",
    "dummy_output = model(dummy_input)\n"
   ]
  },
  {
   "cell_type": "code",
   "execution_count": 29,
   "metadata": {},
   "outputs": [
    {
     "name": "stdout",
     "output_type": "stream",
     "text": [
      "Epoch 1/5, Loss: 0.2921\n",
      "Epoch 2/5, Loss: 0.1129\n",
      "Epoch 3/5, Loss: 0.0768\n",
      "Epoch 4/5, Loss: 0.2863\n",
      "Epoch 5/5, Loss: 0.1769\n",
      "Training complete!\n"
     ]
    }
   ],
   "source": [
    "import torch.optim as optim\n",
    "\n",
    "# Define loss function & optimizer\n",
    "criterion = nn.CrossEntropyLoss()\n",
    "optimizer = optim.Adam(model.parameters(), lr=0.001)\n",
    "\n",
    "# Training loop\n",
    "epochs = 5\n",
    "for epoch in range(epochs):\n",
    "    for images, labels in train_loader:\n",
    "        images, labels = images.to(device), labels.to(device)  # Move data to GPU\n",
    "        optimizer.zero_grad()  # Reset gradients\n",
    "        outputs = model(images)\n",
    "        loss = criterion(outputs, labels)  # Compute loss\n",
    "        loss.backward()  # Backpropagation\n",
    "        optimizer.step()  # Update weights\n",
    "\n",
    "    print(f\"Epoch {epoch+1}/{epochs}, Loss: {loss.item():.4f}\")\n",
    "\n",
    "print(\"Training complete!\")\n",
    "\n",
    "# Save the model's state_dict\n",
    "torch.save(model.state_dict(), \"./model_weights-c.pth\")\n"
   ]
  },
  {
   "cell_type": "code",
   "execution_count": 30,
   "metadata": {},
   "outputs": [
    {
     "data": {
      "text/plain": [
       "Parameter containing:\n",
       "tensor([ 1.8695e+00,  5.8504e-01,  1.1850e+00,  2.7905e+00,  5.2721e-01,\n",
       "         6.5623e-01,  9.3706e-01,  5.0432e-01, -7.4689e-01,  1.5039e+00,\n",
       "        -8.2164e-01, -1.0927e+00, -3.9306e-01,  2.0282e+00,  1.3539e+00,\n",
       "        -1.1852e+00,  7.3510e-01,  4.3698e-01,  3.9782e-02,  1.8274e+00,\n",
       "        -7.1002e-01, -1.0271e-01, -3.6076e-01, -1.0154e+00, -1.0296e+00,\n",
       "         1.9240e+00, -5.9374e-01, -1.5117e+00,  2.2659e+00,  1.2874e+00,\n",
       "         7.6471e-01, -1.0679e-01, -5.4471e-01, -4.5698e-02, -2.5840e+00,\n",
       "         4.2135e-01, -2.5442e-01, -6.7966e-01,  1.3232e+00,  5.0708e-01,\n",
       "         1.0391e+00,  7.1078e-01,  1.6990e-01,  3.7673e-02, -7.1836e-01,\n",
       "        -5.3480e-01, -7.4858e-01,  6.4918e-01,  1.7096e+00,  1.4050e+00,\n",
       "        -3.9061e-01, -2.1201e+00,  2.4385e+00, -2.4397e-01,  8.4989e-04,\n",
       "         4.7253e-02, -7.2746e-02, -4.4835e-01, -4.2870e-01, -1.0594e-01,\n",
       "        -1.1018e+00, -5.0197e-01, -4.9928e-01, -2.8829e-01,  7.4623e-01,\n",
       "        -7.4053e-01, -6.3185e-01, -6.8617e-01, -1.7661e+00,  7.6190e-01,\n",
       "         6.3107e-01, -1.6954e-02,  9.7252e-01,  6.9463e-01, -8.8341e-01,\n",
       "        -1.9826e+00, -4.4095e-01, -5.1223e-01,  2.5522e-01, -5.3446e-01,\n",
       "        -1.4189e+00,  2.5621e-01,  9.3588e-01, -8.5801e-01, -8.9038e-01,\n",
       "        -8.7673e-01, -2.6291e+00,  4.2483e-01, -5.7256e-01,  4.3020e-01,\n",
       "        -1.2713e-01,  2.5495e-01,  7.6296e-01,  6.4338e-01,  3.0788e-01,\n",
       "        -3.7400e-01,  1.7796e-02, -4.1111e-01,  2.2720e+00,  8.2912e-01,\n",
       "         1.7714e+00, -1.0249e-01, -3.3194e-01, -6.2014e-03,  5.6211e-01,\n",
       "         9.6771e-01, -1.5689e+00,  1.3497e+00,  8.6031e-01, -3.3980e-01,\n",
       "         6.6507e-01, -5.7925e-01, -7.7950e-01, -4.7977e-01, -8.6718e-01,\n",
       "        -8.4182e-01,  8.7656e-01,  5.1467e-01, -8.8288e-01, -4.3171e-01,\n",
       "        -1.0913e+00, -8.7182e-01,  1.2776e+00,  2.5202e+00,  1.3803e+00,\n",
       "         3.8331e-01, -1.1532e+00, -6.6813e-01, -2.4047e-01, -1.8625e+00,\n",
       "         7.8401e-01,  2.9506e+00,  2.1530e-01,  9.4467e-01, -8.0153e-01,\n",
       "        -8.2263e-02,  9.8168e-02,  3.5271e-01,  1.1298e+00, -6.7025e-01,\n",
       "        -5.2931e-02, -3.6592e-01, -1.5580e-01, -4.2125e-02,  1.3721e+00,\n",
       "        -5.1038e-01, -9.1599e-01, -2.9727e-01,  6.0856e-01,  1.7754e+00,\n",
       "         2.2220e+00,  4.4864e-01, -1.3272e+00,  1.4054e+00, -6.7442e-01,\n",
       "        -1.1200e+00, -9.8396e-01, -5.1451e-01,  5.9463e-01, -3.0794e-01,\n",
       "        -4.1166e-02, -5.7984e-01,  9.6253e-01, -7.4200e-02, -9.9219e-01,\n",
       "         7.4541e-01,  1.9676e-02,  1.1223e-01,  5.9322e-01,  1.1700e+00,\n",
       "        -3.9375e-01,  1.8869e+00, -1.2401e+00, -4.8795e-02,  1.3848e-02,\n",
       "        -1.6099e+00, -5.5071e-02, -2.6780e-01, -1.8238e+00, -1.2631e-01,\n",
       "         6.9795e-02,  2.5229e+00, -6.2862e-01,  1.9790e+00, -3.4042e-01,\n",
       "        -1.0962e+00,  7.5486e-01,  7.3798e-01, -1.5173e+00, -6.5939e-01,\n",
       "        -6.8024e-01,  8.5232e-01, -1.8488e+00, -1.3177e+00,  6.6240e-01,\n",
       "         1.2428e+00, -7.3337e-01,  1.6255e-01,  9.5387e-01, -3.7623e-01,\n",
       "         5.0840e-01,  3.8055e-01,  1.3220e-01,  3.0788e-01,  1.9949e+00,\n",
       "        -7.9073e-01, -6.8398e-02,  1.4166e-01, -6.8483e-01,  1.3681e+00,\n",
       "        -2.3182e-01, -6.9211e-02, -2.3010e+00, -1.9085e-02, -1.2201e+00,\n",
       "        -2.9223e-01,  6.3713e-01, -4.2718e-01, -7.5795e-01, -9.8065e-01,\n",
       "         1.6823e-01,  3.4401e-01,  6.4772e-01, -5.3153e-01,  1.1776e+00,\n",
       "         8.4489e-01,  3.8998e-02,  3.4395e-01,  8.9055e-01,  6.3663e-01,\n",
       "        -6.7762e-01,  8.6858e-01,  8.2186e-01,  1.2462e+00, -1.9539e-01,\n",
       "        -2.4608e+00,  3.7306e-02, -1.8842e+00, -1.2128e+00,  1.3501e+00,\n",
       "        -1.3933e+00,  1.8317e-01,  1.7133e-02, -8.7942e-01,  1.0331e+00,\n",
       "        -4.5625e-01,  7.3761e-01,  6.3703e-01, -7.7614e-01, -1.6087e-01,\n",
       "        -9.1326e-01, -9.5879e-01,  2.5826e-01, -8.2344e-01,  1.6143e+00,\n",
       "        -4.9375e-02,  1.3550e+00, -8.7702e-01,  1.1109e+00,  8.9669e-01,\n",
       "        -1.4559e-01, -6.6631e-01, -1.3473e-01,  6.4440e-01,  6.0751e-01,\n",
       "         2.3401e+00,  3.7349e-01,  3.2797e-01,  9.8559e-02, -1.2637e+00,\n",
       "        -8.5784e-01, -4.7139e-01,  2.4956e+00, -1.0531e+00,  1.3475e-02,\n",
       "         1.1334e+00, -8.7727e-01,  1.5125e-02,  1.8734e-01, -4.2359e-02,\n",
       "         1.0232e-01, -4.9934e-01,  6.2634e-01, -1.8397e+00,  2.8977e-01,\n",
       "         7.0178e-01,  1.0799e+00, -8.8879e-01,  2.2534e-01, -1.2568e+00,\n",
       "         4.6246e-01, -1.5907e+00,  2.7213e-01,  7.0159e-02, -1.3516e+00,\n",
       "        -5.9333e-01,  1.1353e+00,  6.6753e-01, -1.2432e-01, -6.7202e-01,\n",
       "        -8.6699e-02,  2.6707e-01,  2.1964e-01, -1.5709e+00,  4.8209e-01,\n",
       "         8.3459e-01, -5.6288e-01,  1.4470e+00, -7.5642e-01,  5.4789e-01,\n",
       "        -9.3599e-01, -2.3148e-01,  5.0919e-01, -2.5586e+00, -8.7499e-02,\n",
       "         1.8354e+00, -1.2420e+00,  3.9067e-01,  5.0193e-01,  2.0840e-01,\n",
       "         5.3362e-03,  4.2740e-01,  8.0320e-02,  2.9265e-01,  5.0724e-01,\n",
       "         4.1999e-01, -3.6553e-01,  4.3434e-01, -6.3200e-01, -1.4684e+00,\n",
       "        -4.4616e-01,  5.0846e-01,  2.7363e-01, -1.6526e+00,  1.9126e+00,\n",
       "         6.2750e-01,  1.0194e-01,  1.2992e+00,  7.7904e-01,  1.4075e+00,\n",
       "         2.6942e-01,  6.3066e-01,  1.0788e+00, -1.6319e-01, -6.6855e-01,\n",
       "         8.9509e-01, -7.7701e-01,  1.6730e-01,  8.8042e-01,  1.1136e+00,\n",
       "         6.1244e-01, -9.3836e-01, -1.1093e+00, -8.1046e-01, -9.5000e-01,\n",
       "        -6.8358e-01,  7.3814e-01,  9.7141e-01, -5.4268e-01,  4.2814e-01,\n",
       "        -7.9939e-02,  1.6891e-01, -5.0591e-01,  7.8988e-01, -1.9537e+00,\n",
       "        -3.5346e-03,  1.4658e+00, -1.9956e-01,  6.4881e-01, -1.0147e+00,\n",
       "         7.1055e-01, -8.1667e-01,  6.2265e-01,  1.1373e+00,  9.3230e-01,\n",
       "         6.2900e-01,  1.4020e+00, -1.8973e+00, -5.7215e-01, -8.4744e-01,\n",
       "        -7.9322e-01,  2.6378e-01,  1.4343e-01, -1.1689e+00, -8.7548e-01,\n",
       "         6.7680e-01,  5.3470e-01,  1.0991e-01, -8.3187e-03, -2.8217e-02,\n",
       "        -8.5152e-01,  1.7225e-01, -2.1974e-02,  7.2332e-01, -7.3903e-01,\n",
       "         3.5659e-01,  5.4477e-01,  8.6996e-01,  6.6400e-01, -1.3995e+00,\n",
       "        -1.1012e+00,  1.7879e+00,  6.2029e-01, -1.6356e+00, -3.6683e-01,\n",
       "         3.9738e-01, -8.7453e-01,  1.0689e+00, -4.1112e-02, -2.4441e-01,\n",
       "         1.8559e+00,  1.0470e+00,  3.4014e-01,  1.2543e+00,  8.1171e-01,\n",
       "         1.1389e-01,  1.1497e+00,  9.4772e-02,  2.2589e-01,  6.3085e-01,\n",
       "        -6.5287e-01,  1.2317e-01,  1.9349e-01, -5.7045e-01, -6.2667e-01,\n",
       "        -8.2632e-01, -1.4443e-02,  4.1064e-01, -1.9437e-01,  2.1131e-01,\n",
       "         4.6946e-01,  1.3520e-01, -6.0334e-01, -4.9663e-02,  1.3455e+00,\n",
       "         1.3841e+00,  1.4835e+00,  5.9186e-02, -2.2179e+00, -2.4785e-01,\n",
       "         2.7992e+00, -2.1636e-01, -8.7515e-01,  3.9963e-02, -4.4465e-01,\n",
       "        -5.4584e-01, -2.6682e-02, -6.7956e-01, -7.5759e-01,  1.7744e+00,\n",
       "        -1.0140e-01, -4.7488e-01, -4.4890e-01,  2.5724e-01, -9.1329e-01,\n",
       "         8.2161e-02,  6.4797e-01,  4.6518e-01,  2.9591e-01, -1.0499e-01,\n",
       "         5.6926e-01, -6.0209e-01, -4.4662e-01,  4.8239e-01,  3.1619e-01,\n",
       "        -3.7976e-01, -1.9249e+00, -1.5688e+00,  1.8333e+00, -1.4198e-01,\n",
       "        -1.2284e-01,  2.3759e-01, -2.4659e+00, -1.4943e-01, -1.8895e-01,\n",
       "        -1.2390e-01, -4.8920e-01, -1.7549e+00, -5.2913e-02, -9.3781e-01,\n",
       "         1.1285e+00,  5.2531e-01,  1.0269e+00, -2.0012e+00, -1.4578e+00,\n",
       "         6.7701e-01,  6.8443e-01, -1.6067e+00,  3.9477e-01, -7.9429e-01,\n",
       "         1.5408e+00, -2.1629e+00,  1.3671e+00, -6.1798e-01, -1.3106e+00,\n",
       "        -5.3020e-01, -9.5692e-01, -8.3677e-01,  3.8898e-01,  1.4352e+00,\n",
       "        -1.5604e+00,  4.3411e-01,  1.4320e+00, -7.0921e-03, -1.8209e+00,\n",
       "         8.6687e-01, -9.1678e-01, -1.0075e+00, -8.0204e-01,  1.9070e-01,\n",
       "         5.1457e-01,  2.3286e-01,  2.2488e-01, -1.2722e+00, -1.1870e-01,\n",
       "         8.5545e-01, -2.7727e-01, -4.2267e-02,  1.3659e+00, -8.2872e-01,\n",
       "        -6.7414e-01,  7.1233e-01,  1.0167e+00, -1.2579e+00, -8.7570e-01,\n",
       "        -3.0843e-01, -5.2826e-02, -1.0543e+00,  1.7607e-02, -1.7002e+00,\n",
       "         5.5786e-01, -1.8910e+00,  1.2082e+00, -9.5917e-01, -2.6915e-01,\n",
       "        -7.4732e-02, -6.6248e-01,  1.0793e+00, -3.9981e-01, -5.3542e-02,\n",
       "         8.8348e-01, -3.8612e-01,  7.9624e-01,  1.6675e+00,  1.6953e+00,\n",
       "         2.1653e-01,  9.6343e-01, -6.5746e-01,  5.4863e-01,  8.9049e-01,\n",
       "         2.5585e-01,  5.8315e-01,  9.1278e-01, -4.4306e-01, -5.1606e-01,\n",
       "        -6.9449e-01,  4.1280e-01, -1.0127e+00,  9.4681e-01,  1.2486e-01,\n",
       "        -4.4594e-01,  1.1706e+00,  7.1961e-01, -9.0031e-01,  7.6273e-01,\n",
       "        -5.8533e-01, -1.6374e+00,  9.2962e-01, -8.4888e-01,  2.1253e+00,\n",
       "         8.4442e-01, -1.3304e+00, -2.7618e-01,  1.0521e+00, -4.1434e-01,\n",
       "        -1.3952e+00, -5.6826e-01, -5.1571e-01,  7.4892e-01, -2.1787e+00,\n",
       "        -1.2915e+00, -9.6334e-01,  5.7183e-01, -1.5823e+00,  2.8882e-01,\n",
       "         4.8265e-01,  7.1335e-02, -1.5562e+00,  9.1078e-01,  3.9010e-02,\n",
       "        -1.2649e+00, -1.1323e+00,  3.2328e-02,  1.5620e+00, -1.3597e+00,\n",
       "         1.7629e+00,  4.7694e-01,  6.7075e-01, -4.4907e-01, -2.8967e-01,\n",
       "        -2.3239e-01,  9.2882e-01,  4.8742e-01,  9.8975e-01,  1.3467e+00,\n",
       "        -1.5496e+00,  1.3998e-01,  2.7602e-01,  4.1649e-01,  6.0707e-02,\n",
       "        -4.4163e-01,  5.5642e-01, -3.2956e-01,  1.1994e-01,  7.0408e-01,\n",
       "        -1.2502e+00, -4.8770e-01, -4.7937e-01, -9.7992e-01,  4.0843e-01,\n",
       "         1.1745e+00, -4.2310e-02, -4.6530e-01, -6.9296e-01,  7.5266e-01,\n",
       "        -7.9100e-01, -9.1264e-01,  6.8310e-01, -4.6856e-01,  1.2497e+00,\n",
       "        -3.0157e-01,  5.4412e-01, -1.6599e+00,  3.3460e-01, -7.3214e-01,\n",
       "         1.1605e+00, -6.0705e-01, -5.9513e-01,  1.7479e+00,  2.4310e-01,\n",
       "         6.5633e-01,  5.2742e-01, -1.9394e+00,  4.8266e-01, -1.9191e+00,\n",
       "         4.6150e-01,  1.2726e-03, -9.5213e-01, -1.1708e-01,  1.4804e+00,\n",
       "         5.5863e-01,  1.7343e+00,  1.0603e+00,  7.7861e-01,  4.6815e-01,\n",
       "         1.4834e+00,  4.3565e-02, -8.5072e-01,  1.5210e+00, -1.1943e+00,\n",
       "        -3.6651e-02, -2.4241e-01,  1.9612e-01, -1.3163e+00,  1.2119e+00,\n",
       "        -1.5505e-01, -7.4106e-01,  5.8576e-01,  1.6737e-01, -9.7254e-01,\n",
       "         9.1073e-01, -2.0802e-01, -5.0062e-01,  9.4356e-01,  1.6485e+00,\n",
       "         9.6938e-02,  7.2726e-01,  2.9621e-01, -8.6538e-01, -5.2870e-01,\n",
       "         2.3792e-01, -6.8979e-01,  6.6902e-01, -2.5519e-02,  7.8113e-01,\n",
       "         9.0040e-01, -2.2013e-01,  1.2412e+00, -5.3746e-01,  2.1833e-01,\n",
       "        -1.3702e+00, -2.2334e-01, -7.5060e-01, -1.7430e+00,  2.3349e+00,\n",
       "         6.4562e-02, -1.4905e-01, -6.2898e-01,  1.4324e-01,  1.7840e+00,\n",
       "        -1.4067e+00,  7.4042e-01, -1.0611e+00, -5.9669e-01,  1.1782e+00,\n",
       "         1.8177e-01,  2.1940e-01, -5.5427e-01,  4.0080e-01, -1.2875e+00,\n",
       "         4.7503e-01, -1.4546e+00, -1.2521e-01, -9.8606e-03,  1.0691e+00,\n",
       "         2.3533e-01, -1.6385e+00,  5.6041e-01, -5.0908e-01,  5.1610e-01,\n",
       "         5.9146e-03, -7.3067e-02, -9.1462e-01,  1.1668e-01, -6.5476e-01,\n",
       "         2.8765e-01,  2.4528e-01, -1.0953e+00, -3.1009e-01,  1.0664e+00,\n",
       "         1.2895e-02,  3.6939e-01, -2.0986e+00,  6.9445e-01, -1.2819e+00,\n",
       "        -5.3649e-01, -8.8423e-01, -1.9624e-01, -5.3636e-01, -1.5931e-01,\n",
       "        -2.5767e+00,  5.1685e-01,  2.7241e-01,  2.2055e-01, -8.5144e-01,\n",
       "        -1.7683e+00,  2.9105e-02, -1.4293e+00, -7.9259e-01,  9.7543e-01,\n",
       "         1.7250e+00,  1.4202e+00,  6.4788e-02, -2.3363e-01, -6.6277e-01,\n",
       "        -6.2812e-01, -1.3195e+00, -2.6682e-01, -4.7925e-01, -1.0172e+00,\n",
       "         1.2400e-01, -1.1818e+00,  2.6769e-01, -9.4946e-01, -3.5570e-02,\n",
       "        -3.3587e-01,  1.8023e+00,  5.5140e-01,  1.0505e+00, -4.1250e-01,\n",
       "         4.8374e-01, -5.6737e-01,  7.4718e-01,  1.4520e+00,  4.6016e-01,\n",
       "        -5.0088e-01,  1.4001e-01,  4.9638e-01,  1.3546e+00,  8.4388e-01,\n",
       "         1.1824e+00, -9.6579e-01, -7.8115e-01,  1.7014e+00],\n",
       "       requires_grad=True)"
      ]
     },
     "execution_count": 30,
     "metadata": {},
     "output_type": "execute_result"
    }
   ],
   "source": [
    "model.custom_weights"
   ]
  },
  {
   "cell_type": "code",
   "execution_count": 31,
   "metadata": {},
   "outputs": [
    {
     "name": "stdout",
     "output_type": "stream",
     "text": [
      "Test Accuracy: 96.47%\n"
     ]
    }
   ],
   "source": [
    "correct = 0\n",
    "total = 0\n",
    "\n",
    "with torch.no_grad():  # Disable gradient calculations\n",
    "    for images, labels in test_loader:\n",
    "        images, labels = images.to(device), labels.to(device)\n",
    "        outputs = model(images)\n",
    "        _, predicted = torch.max(outputs, 1)  # Get predicted class\n",
    "        total += labels.size(0)\n",
    "        correct += (predicted == labels).sum().item()\n",
    "\n",
    "accuracy = 100 * correct / total\n",
    "print(f\"Test Accuracy: {accuracy:.2f}%\")"
   ]
  },
  {
   "cell_type": "code",
   "execution_count": 83,
   "metadata": {},
   "outputs": [
    {
     "name": "stdout",
     "output_type": "stream",
     "text": [
      "torch.Size([128, 784]) torch.Size([64, 128]) torch.Size([10, 64])\n"
     ]
    }
   ],
   "source": [
    "print(model.l2.weight.shape, model.l3.weight.shape, model.l4.weight.shape)"
   ]
  },
  {
   "cell_type": "code",
   "execution_count": 32,
   "metadata": {},
   "outputs": [
    {
     "name": "stdout",
     "output_type": "stream",
     "text": [
      "tensor(608.0300, grad_fn=<SelectBackward0>)\n",
      "tensor(0.0604, grad_fn=<SelectBackward0>)\n",
      "tensor(0.6595, grad_fn=<SelectBackward0>)\n",
      "torch.Size([784]) torch.Size([128]) torch.Size([64]) torch.Size([10])\n"
     ]
    }
   ],
   "source": [
    "# Step 1: Take the absolute value of the tensor\n",
    "l2 = model.l2.weight.abs()\n",
    "l3 = model.l3.weight.abs()\n",
    "c = model.custom_weights.abs()\n",
    "l4 = model.l4.weight.abs()\n",
    "\n",
    "# Step 2: Sum over the rows (dim=0), resulting in a tensor of shape (784,)\n",
    "l1 = l2.sum(dim=0)\n",
    "l2 = l3.sum(dim=0) + l2.sum(dim=1)\n",
    "l3 = l4.sum(dim=0) + l3.sum(dim=1)\n",
    "l3[0] = l3[0] + c.sum()\n",
    "print(l3[0])\n",
    "l4 = l4.sum(dim=1)\n",
    "\n",
    "# Step 3: Divide by the number of rows (128) to get the average\n",
    "l1 = l1 / 128\n",
    "l2 = l2 / (64 + 784)\n",
    "l3[1:] = l3[1:] / (10 + 128)\n",
    "print(l3[1])\n",
    "l3[0] = l3[0] / (10 + 128 + 784)\n",
    "print(l3[0])\n",
    "l4 = l4 / 10\n",
    "\n",
    "# Print the result\n",
    "print(l1.shape, l2.shape, l3.shape, l4.shape)  \n"
   ]
  },
  {
   "cell_type": "code",
   "execution_count": 33,
   "metadata": {},
   "outputs": [
    {
     "data": {
      "image/png": "[encoded data removed]",
      "text/plain": [
       "<Figure size 1000x600 with 1 Axes>"
      ]
     },
     "metadata": {},
     "output_type": "display_data"
    }
   ],
   "source": [
    "import matplotlib.pyplot as plt\n",
    "\n",
    "ns = torch.cat((l1, l2, l3, l4))\n",
    "\n",
    "# Plot the histogram\n",
    "plt.figure(figsize=(10, 6))\n",
    "plt.hist(ns.detach().numpy(), bins=60, color=\"blue\", alpha=0.7)\n",
    "\n",
    "# Add labels and title\n",
    "plt.xlabel('Value')\n",
    "plt.ylabel('Frequency')\n",
    "plt.title('Histogram of Combined Neuron Importance Across Layers')\n",
    "\n",
    "# Show the plot\n",
    "plt.show()"
   ]
  },
  {
   "cell_type": "code",
   "execution_count": 34,
   "metadata": {},
   "outputs": [
    {
     "data": {
      "text/plain": [
       "986"
      ]
     },
     "execution_count": 34,
     "metadata": {},
     "output_type": "execute_result"
    }
   ],
   "source": [
    "len(ns)"
   ]
  },
  {
   "cell_type": "code",
   "execution_count": 35,
   "metadata": {},
   "outputs": [
    {
     "data": {
      "text/plain": [
       "373"
      ]
     },
     "execution_count": 35,
     "metadata": {},
     "output_type": "execute_result"
    }
   ],
   "source": [
    "len([x for x in ns if x >= ns.mean()])"
   ]
  },
  {
   "cell_type": "code",
   "execution_count": 36,
   "metadata": {},
   "outputs": [
    {
     "data": {
      "text/plain": [
       "240"
      ]
     },
     "execution_count": 36,
     "metadata": {},
     "output_type": "execute_result"
    }
   ],
   "source": [
    "len([x for x in l1 if x >= ns.mean()])"
   ]
  },
  {
   "cell_type": "code",
   "execution_count": 37,
   "metadata": {},
   "outputs": [
    {
     "data": {
      "text/plain": [
       "62"
      ]
     },
     "execution_count": 37,
     "metadata": {},
     "output_type": "execute_result"
    }
   ],
   "source": [
    "len([x for x in l2 if x >= ns.mean()])"
   ]
  },
  {
   "cell_type": "code",
   "execution_count": 38,
   "metadata": {},
   "outputs": [
    {
     "data": {
      "text/plain": [
       "61"
      ]
     },
     "execution_count": 38,
     "metadata": {},
     "output_type": "execute_result"
    }
   ],
   "source": [
    "len([x for x in l3 if x >= ns.mean()])"
   ]
  },
  {
   "cell_type": "code",
   "execution_count": 39,
   "metadata": {},
   "outputs": [
    {
     "data": {
      "text/plain": [
       "10"
      ]
     },
     "execution_count": 39,
     "metadata": {},
     "output_type": "execute_result"
    }
   ],
   "source": [
    "len([x for x in l4 if x >= ns.mean()])"
   ]
  },
  {
   "cell_type": "code",
   "execution_count": 76,
   "metadata": {},
   "outputs": [],
   "source": [
    "import torch\n",
    "import torch.nn as nn\n",
    "import torch.nn.functional as F\n",
    "\n",
    "def remove_neurons_from_layer(layer, neurons_to_remove):\n",
    "    \"\"\"\n",
    "    Removes specified neurons from a given fully connected layer.\n",
    "    \n",
    "    Args:\n",
    "        layer (nn.Linear): The original layer to modify.\n",
    "        neurons_to_remove (list): List of neuron indices to remove.\n",
    "\n",
    "    Returns:\n",
    "        nn.Linear: A new layer with the specified neurons removed.\n",
    "    \"\"\"\n",
    "    neurons_to_remove = sorted(neurons_to_remove)\n",
    "\n",
    "    # Extract current weights and biases\n",
    "    old_weights = layer.weight.detach().clone()\n",
    "    old_bias = layer.bias.detach().clone()\n",
    "\n",
    "    # Create a mask to keep only the rows we want\n",
    "    keep_indices = [i for i in range(old_weights.shape[0]) if i not in neurons_to_remove]\n",
    "\n",
    "    # Remove the specified rows\n",
    "    new_weights = old_weights[keep_indices, :]\n",
    "    new_bias = old_bias[keep_indices]\n",
    "\n",
    "    # Create new Linear layer with adjusted output size\n",
    "    new_layer = nn.Linear(layer.in_features, len(keep_indices), bias=True)\n",
    "\n",
    "    # Copy the modified weights and biases into the new layer\n",
    "    with torch.no_grad():\n",
    "        new_layer.weight.copy_(new_weights)\n",
    "        new_layer.bias.copy_(new_bias)\n",
    "\n",
    "    return new_layer\n",
    "\n",
    "\n",
    "class CustomNet(nn.Module):\n",
    "    def __init__(self, input_size=784, remove_pixels=[], remove_neurons=[]):\n",
    "        super(CustomNet, self).__init__()\n",
    "\n",
    "        self.remove_pixels = remove_pixels  # Store pixels to remove\n",
    "\n",
    "        # **Step 1: Remove specified neurons from the first hidden layer (l1)**\n",
    "        self.l2 = nn.Linear(input_size - len(self.remove_pixels), 128)  # Adjusted input size\n",
    "        self.l2 = remove_neurons_from_layer(self.l2, r2)  # Apply neuron removal\n",
    "\n",
    "        # **Step 2: Define next layers after neuron removal is applied**\n",
    "        self.l3 = nn.Linear(self.l2.out_features, 64)  # l2 takes the output from l1\n",
    "        self.l3 = remove_neurons_from_layer(self.l3, r3)\n",
    "\n",
    "        self.l4 = nn.Linear(self.l3.out_features, 10)  # l3 takes the output from l2\n",
    "        self.l4 = remove_neurons_from_layer(self.l4, r4)\n",
    "\n",
    "    def forward(self, x):\n",
    "        x = x.view(-1, 784)  # Flatten input (batch_size, 784)\n",
    "\n",
    "        # **Step 1: Remove selected pixels from input layer**\n",
    "        if self.remove_pixels:\n",
    "            keep_indices = [i for i in range(784) if i not in self.remove_pixels]\n",
    "            x = x[:, keep_indices] \n",
    "\n",
    "        # **Step 2: Forward pass through the network**\n",
    "        l2_out = F.relu(self.l2(x))\n",
    "        l3_out = F.relu(self.l3(l2_out))\n",
    "        l4_out = self.l4(l3_out)\n",
    "\n",
    "        return l4_out\n",
    "\n",
    "if len([x for x in l1 if x >= ns.mean()]) > 0: \n",
    "    pixels_to_remove = [i for i, x in enumerate(ns[:len(l1)]) if x < ns.mean()]\n",
    "r2 = [i for i, x in enumerate(ns[len(l1): len(l1) + len(l2)]) if x < ns.mean()]\n",
    "r3 = [i for i, x in enumerate(ns[len(l1) + len(l2): len(l1) + len(l2) + len(l3)]) if x < ns.mean()]\n",
    "r4 = [i for i, x in enumerate(ns[len(l1) + len(l2) + len(l3): len(l1) + len(l2) + len(l3) + len(l4)]) if x < ns.mean()]\n",
    "\n",
    "# Initialize model with adjusted input size and neurons removed\n",
    "model = CustomNet(remove_pixels=pixels_to_remove)\n"
   ]
  },
  {
   "cell_type": "code",
   "execution_count": 61,
   "metadata": {},
   "outputs": [
    {
     "name": "stdout",
     "output_type": "stream",
     "text": [
      "Pixels to remove (input layer): [0, 1, 2, 3, 4, 5, 6, 7, 8, 9, 10, 11, 12, 13, 14, 15, 16, 17, 18, 19, 20, 21, 22, 23, 24, 25, 26, 27, 28, 29, 30, 31, 32, 33, 34, 35, 36, 37, 38, 39, 40, 41, 42, 43, 44, 45, 46, 47, 48, 49, 50, 51, 52, 53, 54, 55, 56, 57, 58, 59, 60, 61, 62, 63, 64, 65, 66, 67, 68, 69, 70, 71, 72, 73, 74, 75, 76, 77, 78, 79, 80, 81, 82, 83, 84, 85, 86, 87, 88, 89, 90, 91, 92, 93, 94, 95, 96, 97, 98, 99, 100, 101, 102, 103, 104, 105, 106, 107, 108, 109, 110, 111, 112, 113, 114, 115, 116, 117, 118, 119, 120, 121, 122, 123, 124, 125, 126, 128, 129, 130, 131, 132, 133, 134, 135, 136, 137, 138, 139, 140, 141, 142, 143, 144, 145, 146, 147, 148, 149, 150, 151, 160, 161, 162, 163, 164, 165, 166, 167, 168, 169, 170, 171, 172, 173, 174, 175, 176, 177, 189, 190, 191, 192, 193, 194, 195, 196, 197, 198, 199, 200, 201, 202, 203, 204, 217, 218, 219, 220, 221, 222, 223, 224, 225, 226, 227, 228, 229, 230, 231, 245, 246, 248, 249, 250, 251, 252, 253, 254, 255, 256, 257, 258, 259, 277, 278, 279, 280, 281, 282, 283, 284, 285, 286, 287, 304, 305, 306, 307, 308, 309, 310, 311, 312, 313, 329, 331, 332, 333, 334, 335, 336, 337, 338, 339, 340, 341, 356, 358, 359, 360, 361, 362, 363, 364, 365, 366, 367, 368, 369, 386, 387, 388, 389, 390, 391, 392, 393, 394, 395, 396, 397, 412, 413, 414, 415, 416, 417, 418, 419, 420, 421, 422, 423, 424, 425, 441, 442, 443, 444, 445, 446, 447, 448, 449, 450, 451, 452, 453, 470, 471, 472, 473, 474, 475, 476, 477, 478, 479, 480, 481, 496, 497, 498, 499, 500, 501, 502, 503, 504, 505, 506, 507, 508, 509, 523, 524, 525, 526, 527, 528, 529, 530, 531, 532, 533, 534, 535, 536, 537, 539, 549, 550, 551, 552, 553, 554, 555, 556, 557, 558, 559, 560, 561, 562, 563, 564, 565, 581, 582, 583, 584, 585, 586, 587, 588, 589, 590, 591, 592, 593, 594, 609, 610, 611, 612, 613, 614, 615, 616, 617, 618, 619, 620, 621, 622, 623, 632, 635, 636, 637, 638, 639, 640, 641, 642, 643, 644, 645, 646, 647, 648, 649, 650, 651, 652, 653, 661, 662, 663, 664, 665, 666, 667, 668, 669, 670, 671, 672, 673, 674, 675, 676, 677, 678, 679, 680, 681, 682, 683, 684, 686, 687, 688, 689, 690, 691, 692, 693, 694, 695, 696, 697, 698, 699, 700, 701, 702, 703, 704, 705, 706, 707, 708, 709, 710, 711, 712, 713, 714, 715, 716, 717, 718, 719, 720, 721, 722, 723, 724, 725, 726, 727, 728, 729, 730, 731, 732, 733, 734, 735, 736, 737, 738, 739, 740, 741, 742, 743, 744, 745, 746, 747, 748, 749, 750, 751, 752, 753, 754, 755, 756, 757, 758, 759, 760, 761, 762, 763, 764, 765, 766, 767, 768, 769, 770, 771, 772, 773, 774, 775, 776, 777, 778, 779, 780, 781, 782, 783]\n",
      "r2 (first hidden layer): [2, 3, 9, 10, 12, 13, 14, 15, 16, 17, 18, 21, 22, 24, 25, 28, 30, 31, 32, 33, 34, 36, 38, 39, 40, 46, 47, 48, 51, 53, 54, 56, 58, 62, 63, 66, 67, 71, 75, 78, 79, 84, 86, 87, 89, 91, 92, 93, 94, 96, 99, 100, 101, 104, 106, 107, 111, 113, 115, 116, 120, 122, 125, 127]\n",
      "r3 (second hidden layer): [44]\n",
      "r4 (output layer): []\n"
     ]
    }
   ],
   "source": [
    "# Find indices of values that are greater than or equal to the mean\n",
    "pixels_to_remove = [i for i, x in enumerate(ns[:784]) if x < ns.mean()]\n",
    "r2 = [i for i, x in enumerate(ns[784: 784 + 128]) if x < ns.mean()]\n",
    "r3 = [i for i, x in enumerate(ns[784 + 128: 784 + 128 + 60]) if x < ns.mean()]\n",
    "r4 = [i for i, x in enumerate(ns[784 + 128 + 60: 784 + 128 + 60 + 10]) if x < ns.mean()]\n",
    "\n",
    "# Print the resulting lists of indices\n",
    "print(\"Pixels to remove (input layer):\", pixels_to_remove)\n",
    "print(\"r2 (first hidden layer):\", r2)\n",
    "print(\"r3 (second hidden layer):\", r3)\n",
    "print(\"r4 (output layer):\", r4)\n"
   ]
  },
  {
   "cell_type": "code",
   "execution_count": null,
   "metadata": {},
   "outputs": [],
   "source": []
  }
 ],
 "metadata": {
  "kernelspec": {
   "display_name": "mnist",
   "language": "python",
   "name": "python3"
  },
  "language_info": {
   "codemirror_mode": {
    "name": "ipython",
    "version": 3
   },
   "file_extension": ".py",
   "mimetype": "text/x-python",
   "name": "python",
   "nbconvert_exporter": "python",
   "pygments_lexer": "ipython3",
   "version": "3.13.2"
  }
 },
 "nbformat": 4,
 "nbformat_minor": 2
}
