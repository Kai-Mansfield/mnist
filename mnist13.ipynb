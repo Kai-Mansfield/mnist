{
 "cells": [
  {
   "cell_type": "code",
   "execution_count": 1,
   "metadata": {},
   "outputs": [],
   "source": [
    "import torch\n",
    "import torchvision\n",
    "import torchvision.transforms as transforms\n",
    "from torch.utils.data import DataLoader\n",
    "\n",
    "# Define transformations (convert to tensor only, no normalization)\n",
    "transform = transforms.Compose([\n",
    "    transforms.ToTensor()  # Keeps pixel values in range [0, 1]\n",
    "])\n",
    "\n",
    "train_dataset = torchvision.datasets.MNIST(root=\"./data\", train=True, transform=transform, download=True)\n",
    "test_dataset = torchvision.datasets.MNIST(root=\"./data\", train=False, transform=transform, download=True)\n",
    "\n",
    "# Create data loaders\n",
    "train_loader = DataLoader(train_dataset, batch_size=64, shuffle=True)\n",
    "test_loader = DataLoader(test_dataset, batch_size=64, shuffle=False)\n"
   ]
  },
  {
   "cell_type": "code",
   "execution_count": 2,
   "metadata": {},
   "outputs": [
    {
     "data": {
      "text/plain": [
       "<All keys matched successfully>"
      ]
     },
     "execution_count": 2,
     "metadata": {},
     "output_type": "execute_result"
    }
   ],
   "source": [
    "import torch\n",
    "import torch.nn as nn\n",
    "import torch.nn.functional as F\n",
    "\n",
    "class MNIST_Net(nn.Module):\n",
    "    def __init__(self):\n",
    "        super(MNIST_Net, self).__init__()\n",
    "        self.l2 = nn.Linear(28 * 28, 128) \n",
    "        self.l3 = nn.Linear(128, 64)       # Hidden: 128 → Hidden: 64\n",
    "        self.l4 = nn.Linear(64, 10)        # Hidden: 64 → Output: 10\n",
    "\n",
    "    def forward(self, im):\n",
    "        l1 = im.view(-1, 784) \n",
    "        global l1a\n",
    "        l1a = [x + y for x, y in zip(l1a, l1.sum(dim=0).tolist())]\n",
    "\n",
    "\n",
    "        l2 = F.relu(self.l2(l1))\n",
    "        l2 = (l2 - l2.min(dim=1, keepdim=True).values) / (l2.max(dim=1, keepdim=True).values - l2.min(dim=1, keepdim=True).values + 1e-8)\n",
    "        global l2a\n",
    "        l2a = [x + y for x, y in zip(l2a, l2.sum(dim=0).tolist())]\n",
    "\n",
    "        l3 = F.relu(self.l3(l2))\n",
    "        l3 = (l3 - l3.min(dim=1, keepdim=True).values) / (l3.max(dim=1, keepdim=True).values - l3.min(dim=1, keepdim=True).values + 1e-8)\n",
    "        global l3a\n",
    "        l3a = [x + y for x, y in zip(l3a, l3.sum(dim=0).tolist())]\n",
    "\n",
    "        l4 = self.l4(l3)\n",
    "        l4 = (l4 - l4.min(dim=1, keepdim=True).values) / (l4.max(dim=1, keepdim=True).values - l4.min(dim=1, keepdim=True).values + 1e-8)\n",
    "        global l4a\n",
    "        l4a = [x + y for x, y in zip(l4a, l4.sum(dim=0).tolist())]\n",
    "\n",
    "        return l4\n",
    "        \n",
    "\n",
    "# Initialize model\n",
    "model = MNIST_Net()\n",
    "device = torch.device(\"cuda\" if torch.cuda.is_available() else \"cpu\")\n",
    "model.to(device)\n",
    "\n",
    "# state_dict = torch.load(\"model_weights-n.pth\", map_location=torch.device('cpu'))\n",
    "# model.load_state_dict(state_dict, strict=False)\n"
   ]
  },
  {
   "cell_type": "code",
   "execution_count": 3,
   "metadata": {},
   "outputs": [
    {
     "name": "stdout",
     "output_type": "stream",
     "text": [
      "Epoch 1/5, Loss: 1.5590\n",
      "Epoch 2/5, Loss: 1.5068\n",
      "Epoch 3/5, Loss: 1.4959\n",
      "Epoch 4/5, Loss: 1.4733\n",
      "Epoch 5/5, Loss: 1.4675\n",
      "Training complete!\n"
     ]
    }
   ],
   "source": [
    "import torch.optim as optim\n",
    "\n",
    "# Define loss function & optimizer\n",
    "criterion = nn.CrossEntropyLoss()\n",
    "optimizer = optim.Adam(model.parameters(), lr=0.001)\n",
    "\n",
    "# Training loop\n",
    "epochs = 5\n",
    "for epoch in range(epochs):\n",
    "    for images, labels in train_loader:\n",
    "        images, labels = images.to(device), labels.to(device)  # Move data to GPU\n",
    "        optimizer.zero_grad()  # Reset gradients\n",
    "        outputs = model(images)\n",
    "        loss = criterion(outputs, labels)  # Compute loss\n",
    "        loss.backward()  # Backpropagation\n",
    "        optimizer.step()  # Update weights\n",
    "\n",
    "    print(f\"Epoch {epoch+1}/{epochs}, Loss: {loss.item():.4f}\")\n",
    "\n",
    "print(\"Training complete!\")\n",
    "\n",
    "# Save the model's state_dict\n",
    "torch.save(model.state_dict(), \"./model_weights-n.pth\")\n"
   ]
  },
  {
   "cell_type": "code",
   "execution_count": 10,
   "metadata": {},
   "outputs": [
    {
     "name": "stdout",
     "output_type": "stream",
     "text": [
      "Test Accuracy: 97.62%\n"
     ]
    }
   ],
   "source": [
    "correct = 0\n",
    "total = 0\n",
    "\n",
    "l1a = [0] * 784\n",
    "l2a = [0] * 128\n",
    "l3a = [0] * 64\n",
    "l4a = [0] * 10\n",
    "\n",
    "with torch.no_grad():  # Disable gradient calculations\n",
    "    for images, labels in test_loader:\n",
    "        images, labels = images.to(device), labels.to(device)\n",
    "        outputs = model(images)\n",
    "        _, predicted = torch.max(outputs, 1)  # Get predicted class\n",
    "        total += labels.size(0)\n",
    "        correct += (predicted == labels).sum().item()\n",
    "\n",
    "l1a = [x / len(test_loader.dataset) for x in l1a]\n",
    "l2a = [x / len(test_loader.dataset) for x in l2a]\n",
    "l3a = [x / len(test_loader.dataset) for x in l3a]\n",
    "l4a = [x / len(test_loader.dataset) for x in l4a]\n",
    "\n",
    "l1a = [l1a[i] * model.l2.weight.abs().sum(dim=0).detach().numpy()[i] for i in range(len(l1a))]\n",
    "l2a = [l2a[i] * model.l3.weight.abs().sum(dim=0).detach().numpy()[i] for i in range(len(l2a))]\n",
    "l3a = [l3a[i] * model.l4.weight.abs().sum(dim=0).detach().numpy()[i] for i in range(len(l3a))]\n",
    "\n",
    "a = l1a + l2a + l3a + l4a\n",
    "\n",
    "accuracy = 100 * correct / total\n",
    "print(f\"Test Accuracy: {accuracy:.2f}%\")"
   ]
  },
  {
   "cell_type": "code",
   "execution_count": 12,
   "metadata": {},
   "outputs": [
    {
     "data": {
      "text/plain": [
       "[np.float32(0.0),\n",
       " np.float32(0.0),\n",
       " np.float32(0.0),\n",
       " np.float32(0.0),\n",
       " np.float32(0.0),\n",
       " np.float32(0.0),\n",
       " np.float32(0.0),\n",
       " np.float32(0.0),\n",
       " np.float32(0.0),\n",
       " np.float32(0.0),\n",
       " 0.0,\n",
       " 0.0,\n",
       " 0.0,\n",
       " 0.0,\n",
       " 0.0,\n",
       " 0.0,\n",
       " 0.0,\n",
       " 0.0,\n",
       " 0.0,\n",
       " 0.0]"
      ]
     },
     "execution_count": 12,
     "metadata": {},
     "output_type": "execute_result"
    }
   ],
   "source": [
    "a[-20:]"
   ]
  },
  {
   "cell_type": "code",
   "execution_count": 5,
   "metadata": {},
   "outputs": [
    {
     "data": {
      "image/png": "[encoded data removed]",
      "text/plain": [
       "<Figure size 1000x600 with 1 Axes>"
      ]
     },
     "metadata": {},
     "output_type": "display_data"
    }
   ],
   "source": [
    "import torch\n",
    "import matplotlib.pyplot as plt\n",
    "\n",
    "# Assuming 'model' is your trained model\n",
    "# Get the model weights from each layer\n",
    "l2_weights = model.l2.weight.detach().cpu().numpy()  # .detach() to stop gradient tracking\n",
    "l3_weights = model.l3.weight.detach().cpu().numpy()\n",
    "l4_weights = model.l4.weight.detach().cpu().numpy()\n",
    "\n",
    "# Flatten the weight matrices into 1D arrays\n",
    "l2_weights_flat = l2_weights.flatten()\n",
    "l3_weights_flat = l3_weights.flatten()\n",
    "l4_weights_flat = l4_weights.flatten()\n",
    "\n",
    "# Plot histograms for each layer\n",
    "plt.figure(figsize=(10, 6))\n",
    "\n",
    "plt.hist(l2_weights_flat, bins=50, alpha=0.6, label='l2 weights')\n",
    "plt.hist(l3_weights_flat, bins=50, alpha=0.6, label='l3 weights')\n",
    "plt.hist(l4_weights_flat, bins=50, alpha=0.6, label='l4 weights')\n",
    "\n",
    "# Adding titles and labels\n",
    "plt.title(\"Histogram of Model Weights\")\n",
    "plt.xlabel(\"Weight Value\")\n",
    "plt.ylabel(\"Frequency\")\n",
    "plt.legend()\n",
    "\n",
    "# Show the plot\n",
    "plt.show()\n"
   ]
  },
  {
   "cell_type": "code",
   "execution_count": null,
   "metadata": {},
   "outputs": [],
   "source": []
  }
 ],
 "metadata": {
  "kernelspec": {
   "display_name": "mnist",
   "language": "python",
   "name": "python3"
  },
  "language_info": {
   "codemirror_mode": {
    "name": "ipython",
    "version": 3
   },
   "file_extension": ".py",
   "mimetype": "text/x-python",
   "name": "python",
   "nbconvert_exporter": "python",
   "pygments_lexer": "ipython3",
   "version": "3.13.2"
  }
 },
 "nbformat": 4,
 "nbformat_minor": 2
}
