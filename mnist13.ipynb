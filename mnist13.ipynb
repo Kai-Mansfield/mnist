{
 "cells": [
  {
   "cell_type": "code",
   "execution_count": 1,
   "metadata": {},
   "outputs": [],
   "source": [
    "import torch\n",
    "import torchvision\n",
    "import torchvision.transforms as transforms\n",
    "from torch.utils.data import DataLoader\n",
    "\n",
    "# Define data transformations (convert images to tensors, keeping values between [0, 1])\n",
    "transform = transforms.Compose([\n",
    "    transforms.ToTensor()  # Converts pixel values from [0, 255] to [0, 1]\n",
    "])\n",
    "\n",
    "# Download MNIST dataset\n",
    "train_dataset = torchvision.datasets.MNIST(root=\"./data\", train=True, transform=transform, download=True)\n",
    "test_dataset = torchvision.datasets.MNIST(root=\"./data\", train=False, transform=transform, download=True)\n",
    "\n",
    "# Create data loaders\n",
    "train_loader = DataLoader(train_dataset, batch_size=64, shuffle=True)\n",
    "test_loader = DataLoader(test_dataset, batch_size=64, shuffle=False)\n"
   ]
  },
  {
   "cell_type": "code",
   "execution_count": 237,
   "metadata": {},
   "outputs": [
    {
     "data": {
      "text/plain": [
       "MNIST_Net(\n",
       "  (l1l4): Linear(in_features=784, out_features=10, bias=True)\n",
       "  (l1l2): Linear(in_features=784, out_features=26, bias=True)\n",
       "  (l2l4): Linear(in_features=26, out_features=10, bias=False)\n",
       "  (l1l3): Linear(in_features=784, out_features=3, bias=True)\n",
       "  (l2l3): Linear(in_features=26, out_features=3, bias=False)\n",
       "  (l3l4): Linear(in_features=3, out_features=10, bias=False)\n",
       ")"
      ]
     },
     "execution_count": 237,
     "metadata": {},
     "output_type": "execute_result"
    }
   ],
   "source": [
    "import torch\n",
    "import torch.nn as nn\n",
    "import torch.nn.functional as F\n",
    "\n",
    "class MNIST_Net(nn.Module):\n",
    "    def __init__(self):\n",
    "        super(MNIST_Net, self).__init__()\n",
    "        self.l1l4 = nn.Linear(784, 10, bias=True) \n",
    "\n",
    "        self.l1l2 = nn.Linear(784, 26, bias=True)  # Input: 784 → Hidden: 128\n",
    "        self.l2l4 = nn.Linear(26, 10, bias=False) \n",
    "\n",
    "        self.l1l3 = nn.Linear(784, 3, bias=True)\n",
    "        self.l2l3 = nn.Linear(26, 3, bias=False)\n",
    "        self.l3l4 = nn.Linear(3, 10, bias=False)\n",
    "\n",
    "    def forward(self, im):\n",
    "        \n",
    "        l1 = im.view(-1, 784) \n",
    "        global l1a\n",
    "        l1a = [x + y for x, y in zip(l1a, l1.sum(dim=0).tolist())]\n",
    "\n",
    "        l2 = F.relu(self.l1l2(l1))\n",
    "        global l2a\n",
    "        l2a = [x + y for x, y in zip(l2a, l2.sum(dim=0).tolist())]\n",
    "\n",
    "        l3 = torch.matmul(l1, self.l1l3.weight.T) + torch.matmul(l2, self.l2l3.weight.T)\n",
    "        l3 += self.l1l3.bias\n",
    "        global l3a\n",
    "        l3a = [x + y for x, y in zip(l3a, l3.sum(dim=0).tolist())]\n",
    "\n",
    "        l4 = torch.matmul(l1, self.l1l4.weight.T) + torch.matmul(l2, self.l2l4.weight.T) + torch.matmul(l3, self.l3l4.weight.T)\n",
    "        l4 += self.l1l4.bias\n",
    "        global l4a\n",
    "        l4a = [x + y for x, y in zip(l4a, l4.sum(dim=0).tolist())]\n",
    "        \n",
    "        return l4\n",
    "\n",
    "# Initialize model\n",
    "model = MNIST_Net()\n",
    "device = torch.device(\"cuda\" if torch.cuda.is_available() else \"cpu\")\n",
    "model.to(device)\n",
    "#model.load_state_dict(torch.load(\"model_weights.pth\"))\n"
   ]
  },
  {
   "cell_type": "code",
   "execution_count": 249,
   "metadata": {},
   "outputs": [
    {
     "name": "stdout",
     "output_type": "stream",
     "text": [
      "Total number of params in the model: 30983\n"
     ]
    }
   ],
   "source": [
    "num_weights = sum(p.numel() for p in model.parameters())\n",
    "print(\"Total number of params in the model:\", num_weights)\n"
   ]
  },
  {
   "cell_type": "code",
   "execution_count": 238,
   "metadata": {},
   "outputs": [
    {
     "name": "stdout",
     "output_type": "stream",
     "text": [
      "Epoch 1/5, Loss: 0.4039\n",
      "Epoch 2/5, Loss: 0.2905\n",
      "Epoch 3/5, Loss: 0.1256\n",
      "Epoch 4/5, Loss: 0.1867\n",
      "Epoch 5/5, Loss: 0.0973\n",
      "Training complete!\n"
     ]
    }
   ],
   "source": [
    "import torch.optim as optim\n",
    "\n",
    "# Define loss function & optimizer\n",
    "criterion = nn.CrossEntropyLoss()\n",
    "optimizer = optim.Adam(model.parameters(), lr=0.001)\n",
    "\n",
    "l1a = [0] * 784\n",
    "l2a = [0] * 26\n",
    "l3a = [0] * 3\n",
    "l4a = [0] * 10\n",
    "\n",
    "# Training loop\n",
    "epochs = 5\n",
    "for epoch in range(epochs):\n",
    "    for images, labels in train_loader:\n",
    "        images, labels = images.to(device), labels.to(device)  # Move data to GPU\n",
    "        optimizer.zero_grad()  # Reset gradients\n",
    "        outputs = model(images)\n",
    "        loss = criterion(outputs, labels)  # Compute loss\n",
    "        loss.backward()  # Backpropagation\n",
    "        optimizer.step()  # Update weights\n",
    "\n",
    "    print(f\"Epoch {epoch+1}/{epochs}, Loss: {loss.item():.4f}\")\n",
    "\n",
    "print(\"Training complete!\")\n",
    "\n",
    "# Save the model's state_dict\n",
    "torch.save(model.state_dict(), \"./model_weights.pth\")\n"
   ]
  },
  {
   "cell_type": "code",
   "execution_count": 239,
   "metadata": {},
   "outputs": [
    {
     "name": "stdout",
     "output_type": "stream",
     "text": [
      "Test Accuracy: 96.36%\n"
     ]
    }
   ],
   "source": [
    "correct = 0\n",
    "total = 0\n",
    "\n",
    "l1a = [0] * 784\n",
    "l2a = [0] * 26\n",
    "l3a = [0] * 3\n",
    "l4a = [0] * 10\n",
    "\n",
    "with torch.no_grad():  # Disable gradient calculations\n",
    "    for images, labels in test_loader:\n",
    "        images, labels = images.to(device), labels.to(device)\n",
    "        outputs = model(images)\n",
    "        _, predicted = torch.max(outputs, 1)  # Get predicted class\n",
    "        total += labels.size(0)\n",
    "        correct += (predicted == labels).sum().item()\n",
    "\n",
    "l1a = [x / len(test_loader.dataset) for x in l1a]\n",
    "l2a = [x / len(test_loader.dataset) for x in l2a]\n",
    "l3a = [x / len(test_loader.dataset) for x in l3a]\n",
    "l4a = [x / len(test_loader.dataset) for x in l4a]\n",
    "\n",
    "l1a = [l1a[i] * (model.l1l2.weight.abs().sum(dim=0).detach().numpy()[i] + model.l1l3.weight.abs().sum(dim=0).detach().numpy()[i] + model.l1l4.weight.abs().sum(dim=0).detach().numpy()[i]) for i in range(len(l1a))]\n",
    "l2a = [l2a[i] * (model.l2l3.weight.abs().sum(dim=0).detach().numpy()[i] + model.l2l4.weight.abs().sum(dim=0).detach().numpy()[i]) for i in range(len(l2a))]\n",
    "l3a = [l3a[i] * model.l3l4.weight.abs().sum(dim=0).detach().numpy()[i] for i in range(len(l3a))]\n",
    "\n",
    "a = l1a + l2a + l3a + l4a\n",
    "\n",
    "accuracy = 100 * correct / total\n",
    "print(f\"Test Accuracy: {accuracy:.2f}%\")"
   ]
  },
  {
   "cell_type": "code",
   "execution_count": 240,
   "metadata": {},
   "outputs": [
    {
     "data": {
      "image/png": "[encoded data removed]",
      "text/plain": [
       "<Figure size 640x480 with 1 Axes>"
      ]
     },
     "metadata": {},
     "output_type": "display_data"
    }
   ],
   "source": [
    "import matplotlib.pyplot as plt\n",
    "\n",
    "# Plotting the histogram\n",
    "plt.hist(a, bins=int(len(a)/8), color='skyblue', edgecolor='black')\n",
    "plt.xlabel('Value')\n",
    "plt.ylabel('Frequency')\n",
    "plt.title('Histogram of Combined List')\n",
    "plt.show()\n"
   ]
  },
  {
   "cell_type": "code",
   "execution_count": 241,
   "metadata": {},
   "outputs": [
    {
     "data": {
      "text/plain": [
       "823"
      ]
     },
     "execution_count": 241,
     "metadata": {},
     "output_type": "execute_result"
    }
   ],
   "source": [
    "len(a)"
   ]
  },
  {
   "cell_type": "code",
   "execution_count": 242,
   "metadata": {},
   "outputs": [
    {
     "data": {
      "text/plain": [
       "26"
      ]
     },
     "execution_count": 242,
     "metadata": {},
     "output_type": "execute_result"
    }
   ],
   "source": [
    "len([x for x in a[784:784 + len(l2a)]]) "
   ]
  },
  {
   "cell_type": "code",
   "execution_count": 243,
   "metadata": {},
   "outputs": [
    {
     "data": {
      "text/plain": [
       "26"
      ]
     },
     "execution_count": 243,
     "metadata": {},
     "output_type": "execute_result"
    }
   ],
   "source": [
    "len([x for x in a[784:784 + len(l2a)] if abs(x) >= 1]) "
   ]
  },
  {
   "cell_type": "code",
   "execution_count": 244,
   "metadata": {},
   "outputs": [
    {
     "data": {
      "text/plain": [
       "3"
      ]
     },
     "execution_count": 244,
     "metadata": {},
     "output_type": "execute_result"
    }
   ],
   "source": [
    "len([x for x in a[784 + len(l2a): 784 + len(l2a) + len(l3a)]]) "
   ]
  },
  {
   "cell_type": "code",
   "execution_count": 245,
   "metadata": {},
   "outputs": [
    {
     "data": {
      "text/plain": [
       "3"
      ]
     },
     "execution_count": 245,
     "metadata": {},
     "output_type": "execute_result"
    }
   ],
   "source": [
    "len([x for x in a[784 + len(l2a): 784 + len(l2a) + len(l3a)] if abs(x) >= 1]) "
   ]
  },
  {
   "cell_type": "code",
   "execution_count": null,
   "metadata": {},
   "outputs": [],
   "source": []
  }
 ],
 "metadata": {
  "kernelspec": {
   "display_name": "mnist",
   "language": "python",
   "name": "python3"
  },
  "language_info": {
   "codemirror_mode": {
    "name": "ipython",
    "version": 3
   },
   "file_extension": ".py",
   "mimetype": "text/x-python",
   "name": "python",
   "nbconvert_exporter": "python",
   "pygments_lexer": "ipython3",
   "version": "3.13.2"
  }
 },
 "nbformat": 4,
 "nbformat_minor": 2
}
