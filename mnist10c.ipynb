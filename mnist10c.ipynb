{
 "cells": [
  {
   "cell_type": "code",
   "execution_count": 1,
   "metadata": {},
   "outputs": [],
   "source": [
    "import torch\n",
    "import torchvision\n",
    "import torchvision.transforms as transforms\n",
    "from torch.utils.data import DataLoader\n",
    "\n",
    "# Define data transformations (convert images to tensors & normalize)\n",
    "transform = transforms.Compose([\n",
    "    transforms.ToTensor(),\n",
    "    transforms.Normalize((0.5,), (0.5,))  # Normalize pixel values to [-1, 1]\n",
    "])\n",
    "\n",
    "# Download MNIST dataset\n",
    "train_dataset = torchvision.datasets.MNIST(root=\"./data\", train=True, transform=transform, download=True)\n",
    "test_dataset = torchvision.datasets.MNIST(root=\"./data\", train=False, transform=transform, download=True)\n",
    "\n",
    "# Create data loaders\n",
    "train_loader = DataLoader(train_dataset, batch_size=64, shuffle=True)\n",
    "test_loader = DataLoader(test_dataset, batch_size=64, shuffle=False)"
   ]
  },
  {
   "cell_type": "code",
   "execution_count": 4,
   "metadata": {},
   "outputs": [
    {
     "data": {
      "text/plain": [
       "<All keys matched successfully>"
      ]
     },
     "execution_count": 4,
     "metadata": {},
     "output_type": "execute_result"
    }
   ],
   "source": [
    "import torch\n",
    "import torch.nn as nn\n",
    "import torch.nn.functional as F\n",
    "\n",
    "class MNIST_Net(nn.Module):\n",
    "    def __init__(self):\n",
    "        super(MNIST_Net, self).__init__()\n",
    "        self.l2 = nn.Linear(28 * 28, 128, bias=True)  # Input: 784 → Hidden: 128\n",
    "        self.l3 = nn.Linear(128, 64, bias=True)       # Hidden: 128 → Hidden: 64\n",
    "        self.l4 = nn.Linear(64, 10, bias=True)        # Hidden: 64 → Output: 10\n",
    "\n",
    "        # Unique weights for each of the 784 input activations\n",
    "        self.custom_weights = nn.Parameter(torch.randn(28 * 28)) \n",
    "\n",
    "    def forward(self, im):\n",
    "        \n",
    "        l1 = im.view(-1, 28 * 28) \n",
    "\n",
    "        l2 = F.relu(self.l2(l1))\n",
    "\n",
    "        l3 = torch.matmul(l2, self.l3.weight.T)\n",
    "        weighted_sum = (self.custom_weights * l1).sum(dim=1) \n",
    "        l3[:, 0] += weighted_sum \n",
    "        l3 += self.l3.bias \n",
    "        l3 = F.relu(l3)\n",
    "\n",
    "        l4 = self.l4(l3)\n",
    "        \n",
    "        return l4\n",
    "\n",
    "# Initialize model\n",
    "model = MNIST_Net()\n",
    "device = torch.device(\"cuda\" if torch.cuda.is_available() else \"cpu\")\n",
    "model.to(device)\n",
    "model.load_state_dict(torch.load(\"model_weights-c.pth\"))\n"
   ]
  },
  {
   "cell_type": "code",
   "execution_count": 29,
   "metadata": {},
   "outputs": [
    {
     "name": "stdout",
     "output_type": "stream",
     "text": [
      "Epoch 1/5, Loss: 0.2921\n",
      "Epoch 2/5, Loss: 0.1129\n",
      "Epoch 3/5, Loss: 0.0768\n",
      "Epoch 4/5, Loss: 0.2863\n",
      "Epoch 5/5, Loss: 0.1769\n",
      "Training complete!\n"
     ]
    }
   ],
   "source": [
    "import torch.optim as optim\n",
    "\n",
    "# Define loss function & optimizer\n",
    "criterion = nn.CrossEntropyLoss()\n",
    "optimizer = optim.Adam(model.parameters(), lr=0.001)\n",
    "\n",
    "# Training loop\n",
    "epochs = 5\n",
    "for epoch in range(epochs):\n",
    "    for images, labels in train_loader:\n",
    "        images, labels = images.to(device), labels.to(device)  # Move data to GPU\n",
    "        optimizer.zero_grad()  # Reset gradients\n",
    "        outputs = model(images)\n",
    "        loss = criterion(outputs, labels)  # Compute loss\n",
    "        loss.backward()  # Backpropagation\n",
    "        optimizer.step()  # Update weights\n",
    "\n",
    "    print(f\"Epoch {epoch+1}/{epochs}, Loss: {loss.item():.4f}\")\n",
    "\n",
    "print(\"Training complete!\")\n",
    "\n",
    "# Save the model's state_dict\n",
    "torch.save(model.state_dict(), \"./model_weights-c.pth\")\n"
   ]
  },
  {
   "cell_type": "code",
   "execution_count": 5,
   "metadata": {},
   "outputs": [
    {
     "name": "stdout",
     "output_type": "stream",
     "text": [
      "Test Accuracy: 96.47%\n"
     ]
    }
   ],
   "source": [
    "correct = 0\n",
    "total = 0\n",
    "\n",
    "with torch.no_grad():  # Disable gradient calculations\n",
    "    for images, labels in test_loader:\n",
    "        images, labels = images.to(device), labels.to(device)\n",
    "        outputs = model(images)\n",
    "        _, predicted = torch.max(outputs, 1)  # Get predicted class\n",
    "        total += labels.size(0)\n",
    "        correct += (predicted == labels).sum().item()\n",
    "\n",
    "accuracy = 100 * correct / total\n",
    "print(f\"Test Accuracy: {accuracy:.2f}%\")"
   ]
  },
  {
   "cell_type": "code",
   "execution_count": 83,
   "metadata": {},
   "outputs": [
    {
     "name": "stdout",
     "output_type": "stream",
     "text": [
      "torch.Size([128, 784]) torch.Size([64, 128]) torch.Size([10, 64])\n"
     ]
    }
   ],
   "source": [
    "print(model.l2.weight.shape, model.l3.weight.shape, model.l4.weight.shape)"
   ]
  },
  {
   "cell_type": "code",
   "execution_count": 6,
   "metadata": {},
   "outputs": [
    {
     "name": "stdout",
     "output_type": "stream",
     "text": [
      "tensor(608.0300, grad_fn=<SelectBackward0>)\n",
      "tensor(0.0604, grad_fn=<SelectBackward0>)\n",
      "tensor(0.6595, grad_fn=<SelectBackward0>)\n",
      "torch.Size([784]) torch.Size([128]) torch.Size([64]) torch.Size([10])\n"
     ]
    }
   ],
   "source": [
    "# Step 1: Take the absolute value of the tensor\n",
    "l2 = model.l2.weight.abs()\n",
    "l3 = model.l3.weight.abs()\n",
    "c = model.custom_weights.abs()\n",
    "l4 = model.l4.weight.abs()\n",
    "\n",
    "# Step 2: Sum over the rows (dim=0), resulting in a tensor of shape (784,)\n",
    "l1 = l2.sum(dim=0)\n",
    "l2 = l3.sum(dim=0) + l2.sum(dim=1)\n",
    "l3 = l4.sum(dim=0) + l3.sum(dim=1)\n",
    "l3[0] = l3[0] + c.sum()\n",
    "print(l3[0])\n",
    "l4 = l4.sum(dim=1)\n",
    "\n",
    "# Step 3: Divide by the number of rows (128) to get the average\n",
    "l1 = l1 / 128\n",
    "l2 = l2 / (64 + 784)\n",
    "l3[1:] = l3[1:] / (10 + 128)\n",
    "print(l3[1])\n",
    "l3[0] = l3[0] / (10 + 128 + 784)\n",
    "print(l3[0])\n",
    "l4 = l4 / 10\n",
    "\n",
    "# Print the result\n",
    "print(l1.shape, l2.shape, l3.shape, l4.shape)  \n"
   ]
  },
  {
   "cell_type": "code",
   "execution_count": 7,
   "metadata": {},
   "outputs": [
    {
     "data": {
      "image/png": "[encoded data removed]",
      "text/plain": [
       "<Figure size 1000x600 with 1 Axes>"
      ]
     },
     "metadata": {},
     "output_type": "display_data"
    }
   ],
   "source": [
    "import matplotlib.pyplot as plt\n",
    "\n",
    "ns = torch.cat((l1, l2, l3, l4))\n",
    "\n",
    "# Plot the histogram\n",
    "plt.figure(figsize=(10, 6))\n",
    "plt.hist(ns.detach().numpy(), bins=60, color=\"blue\", alpha=0.7)\n",
    "\n",
    "# Add labels and title\n",
    "plt.xlabel('Value')\n",
    "plt.ylabel('Frequency')\n",
    "plt.title('Histogram of Combined Neuron Importance Across Layers')\n",
    "\n",
    "# Show the plot\n",
    "plt.show()"
   ]
  },
  {
   "cell_type": "code",
   "execution_count": 13,
   "metadata": {},
   "outputs": [
    {
     "data": {
      "text/plain": [
       "<bound method Module.named_parameters of MNIST_Net(\n",
       "  (l2): Linear(in_features=784, out_features=128, bias=True)\n",
       "  (l3): Linear(in_features=128, out_features=64, bias=True)\n",
       "  (l4): Linear(in_features=64, out_features=10, bias=True)\n",
       ")>"
      ]
     },
     "execution_count": 13,
     "metadata": {},
     "output_type": "execute_result"
    }
   ],
   "source": [
    "model.named_parameters"
   ]
  },
  {
   "cell_type": "code",
   "execution_count": 21,
   "metadata": {},
   "outputs": [
    {
     "data": {
      "image/png": "[encoded data removed]",
      "text/plain": [
       "<Figure size 1000x500 with 1 Axes>"
      ]
     },
     "metadata": {},
     "output_type": "display_data"
    }
   ],
   "source": [
    "import torch\n",
    "import matplotlib.pyplot as plt\n",
    "\n",
    "def compute_neuron_importance(model, data_loader, device):\n",
    "    model.eval()  # Set model to eval mode\n",
    "\n",
    "    # Initialize storage for neuron-wise importance scores\n",
    "    importance_scores = {\n",
    "        \"l2\": torch.zeros(model.l2.out_features, device=device),  # 128 neurons\n",
    "        \"l3\": torch.zeros(model.l3.out_features, device=device),  # 64 neurons\n",
    "        \"l4\": torch.zeros(model.l4.out_features, device=device),  # 10 neurons\n",
    "    }\n",
    "\n",
    "    # Number of incoming weights for each neuron (l2 -> l3 and l3 -> l4)\n",
    "    num_incoming_weights = {\n",
    "        \"l2\": model.l2.in_features,  # 784 incoming for each neuron in l2\n",
    "        \"l3\": model.l3.in_features,  # 128 incoming for each neuron in l3\n",
    "        \"l4\": model.l4.in_features,  # 64 incoming for each neuron in l4\n",
    "    }\n",
    "\n",
    "    # Number of custom weights linked to neuron 0 in l3\n",
    "    custom_weight_count = model.custom_weights.size(0)  # 784 incoming weights for neuron 0\n",
    "\n",
    "    for images, labels in data_loader:\n",
    "        images, labels = images.to(device), labels.to(device)\n",
    "\n",
    "        model.zero_grad()  # Reset gradients\n",
    "        outputs = model(images)\n",
    "        loss = torch.nn.functional.cross_entropy(outputs, labels)\n",
    "        loss.backward()  # Backpropagate\n",
    "\n",
    "        # Compute importance per neuron\n",
    "        if model.l2.weight.grad is not None:\n",
    "            importance_scores[\"l2\"] += (model.l2.weight.grad.abs() * model.l2.weight.abs()).sum(dim=1)\n",
    "        if model.l3.weight.grad is not None:\n",
    "            importance_scores[\"l3\"] += (model.l3.weight.grad.abs() * model.l3.weight.abs()).sum(dim=1)\n",
    "        if model.l4.weight.grad is not None:\n",
    "            importance_scores[\"l4\"] += (model.l4.weight.grad.abs() * model.l4.weight.abs()).sum(dim=1)\n",
    "\n",
    "        # Add contribution from custom weights to neuron 0 in l3\n",
    "        if model.custom_weights.grad is not None:\n",
    "            importance_scores[\"l3\"][0] += (model.custom_weights.grad.abs() * model.custom_weights.abs()).sum()\n",
    "\n",
    "    # Normalize importance scores by the number of incoming weights\n",
    "    for layer in importance_scores:\n",
    "        if layer == \"l3\":\n",
    "            importance_scores[layer][1:] /= num_incoming_weights[layer]\n",
    "        else:\n",
    "            importance_scores[layer] /= num_incoming_weights[layer]\n",
    "\n",
    "    # Normalize the importance of neuron 0 by considering both standard and custom weights\n",
    "    importance_scores[\"l3\"][0] /= (num_incoming_weights[\"l3\"] + custom_weight_count)\n",
    "\n",
    "    # Average importance scores across batches\n",
    "    for layer in importance_scores:\n",
    "        importance_scores[layer] /= len(data_loader)\n",
    "\n",
    "    return importance_scores\n",
    "\n",
    "# Run the function\n",
    "neuron_importance = compute_neuron_importance(model, test_loader, device)\n",
    "\n",
    "# Convert to CPU and detach before plotting\n",
    "neuron_importance_l3 = neuron_importance[\"l3\"].detach().cpu().numpy()\n",
    "\n",
    "# Plot neuron importance for l3\n",
    "plt.figure(figsize=(10, 5))\n",
    "plt.bar(range(len(neuron_importance_l3)), neuron_importance_l3, color=\"skyblue\")\n",
    "plt.xlabel(\"Neuron Index in l3\")\n",
    "plt.ylabel(\"Normalized Importance Score\")\n",
    "plt.title(\"Normalized Neuron Importance in l3 (Including Custom Weights for Neuron 0)\")\n",
    "plt.xticks(range(len(neuron_importance_l3)))  # Show all neuron indices\n",
    "plt.show()\n"
   ]
  },
  {
   "cell_type": "code",
   "execution_count": 22,
   "metadata": {},
   "outputs": [
    {
     "data": {
      "text/plain": [
       "tensor([[0.0716, 0.1155, 0.0751,  ..., 0.0634, 0.0415, 0.1982],\n",
       "        [0.0399, 0.0755, 0.0815,  ..., 0.0067, 0.0382, 0.0628],\n",
       "        [0.0787, 0.0615, 0.0523,  ..., 0.0574, 0.0135, 0.0564],\n",
       "        ...,\n",
       "        [0.0042, 0.0301, 0.0522,  ..., 0.1793, 0.0054, 0.0590],\n",
       "        [0.0489, 0.1170, 0.0075,  ..., 0.1121, 0.1221, 0.0457],\n",
       "        [0.0557, 0.0197, 0.0702,  ..., 0.0803, 0.0184, 0.0275]],\n",
       "       grad_fn=<AbsBackward0>)"
      ]
     },
     "execution_count": 22,
     "metadata": {},
     "output_type": "execute_result"
    }
   ],
   "source": [
    "model.l3.weight.abs()"
   ]
  },
  {
   "cell_type": "code",
   "execution_count": 23,
   "metadata": {},
   "outputs": [
    {
     "data": {
      "text/plain": [
       "tensor([[0.0000e+00, 6.1548e-07, 0.0000e+00,  ..., 1.0538e-05, 0.0000e+00,\n",
       "         1.5258e-05],\n",
       "        [0.0000e+00, 2.3960e-05, 0.0000e+00,  ..., 1.9961e-05, 0.0000e+00,\n",
       "         2.4563e-03],\n",
       "        [0.0000e+00, 1.3583e-05, 0.0000e+00,  ..., 7.0992e-07, 0.0000e+00,\n",
       "         1.2654e-04],\n",
       "        ...,\n",
       "        [0.0000e+00, 6.1267e-05, 0.0000e+00,  ..., 3.1434e-06, 0.0000e+00,\n",
       "         4.3976e-03],\n",
       "        [0.0000e+00, 1.9179e-04, 0.0000e+00,  ..., 3.7007e-05, 0.0000e+00,\n",
       "         1.2520e-02],\n",
       "        [0.0000e+00, 2.1617e-05, 0.0000e+00,  ..., 3.0884e-05, 0.0000e+00,\n",
       "         4.7778e-03]])"
      ]
     },
     "execution_count": 23,
     "metadata": {},
     "output_type": "execute_result"
    }
   ],
   "source": [
    "model.l3.weight.grad.abs()"
   ]
  },
  {
   "cell_type": "code",
   "execution_count": 8,
   "metadata": {},
   "outputs": [
    {
     "ename": "TypeError",
     "evalue": "'NoneType' object is not subscriptable",
     "output_type": "error",
     "traceback": [
      "\u001b[0;31m---------------------------------------------------------------------------\u001b[0m",
      "\u001b[0;31mTypeError\u001b[0m                                 Traceback (most recent call last)",
      "Cell \u001b[0;32mIn[8], line 3\u001b[0m\n\u001b[1;32m      1\u001b[0m \u001b[38;5;66;03m# Print importance for each neuron in l3\u001b[39;00m\n\u001b[1;32m      2\u001b[0m \u001b[38;5;28;01mfor\u001b[39;00m i \u001b[38;5;129;01min\u001b[39;00m \u001b[38;5;28mrange\u001b[39m(model\u001b[38;5;241m.\u001b[39ml3\u001b[38;5;241m.\u001b[39mweight\u001b[38;5;241m.\u001b[39mshape[\u001b[38;5;241m0\u001b[39m]):\n\u001b[0;32m----> 3\u001b[0m     importance \u001b[38;5;241m=\u001b[39m (\u001b[43mmodel\u001b[49m\u001b[38;5;241;43m.\u001b[39;49m\u001b[43ml3\u001b[49m\u001b[38;5;241;43m.\u001b[39;49m\u001b[43mweight\u001b[49m\u001b[38;5;241;43m.\u001b[39;49m\u001b[43mgrad\u001b[49m\u001b[43m[\u001b[49m\u001b[43mi\u001b[49m\u001b[43m]\u001b[49m\u001b[38;5;241m.\u001b[39mabs() \u001b[38;5;241m*\u001b[39m model\u001b[38;5;241m.\u001b[39ml3\u001b[38;5;241m.\u001b[39mweight[i]\u001b[38;5;241m.\u001b[39mabs())\u001b[38;5;241m.\u001b[39msum()\u001b[38;5;241m.\u001b[39mitem()\n\u001b[1;32m      4\u001b[0m     \u001b[38;5;28mprint\u001b[39m(\u001b[38;5;124mf\u001b[39m\u001b[38;5;124m\"\u001b[39m\u001b[38;5;124mNeuron \u001b[39m\u001b[38;5;132;01m{\u001b[39;00mi\u001b[38;5;132;01m}\u001b[39;00m\u001b[38;5;124m in l3 importance: \u001b[39m\u001b[38;5;132;01m{\u001b[39;00mimportance\u001b[38;5;132;01m}\u001b[39;00m\u001b[38;5;124m\"\u001b[39m)\n",
      "\u001b[0;31mTypeError\u001b[0m: 'NoneType' object is not subscriptable"
     ]
    }
   ],
   "source": [
    "# Print importance for each neuron in l3\n",
    "for i in range(model.l3.weight.shape[0]):\n",
    "    importance = (model.l3.weight.grad[i].abs() * model.l3.weight[i].abs()).sum().item()\n",
    "    print(f\"Neuron {i} in l3 importance: {importance}\")\n"
   ]
  },
  {
   "cell_type": "code",
   "execution_count": null,
   "metadata": {},
   "outputs": [],
   "source": []
  }
 ],
 "metadata": {
  "kernelspec": {
   "display_name": "mnist",
   "language": "python",
   "name": "python3"
  },
  "language_info": {
   "codemirror_mode": {
    "name": "ipython",
    "version": 3
   },
   "file_extension": ".py",
   "mimetype": "text/x-python",
   "name": "python",
   "nbconvert_exporter": "python",
   "pygments_lexer": "ipython3",
   "version": "3.13.2"
  }
 },
 "nbformat": 4,
 "nbformat_minor": 2
}
