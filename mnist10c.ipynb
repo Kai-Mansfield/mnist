{
 "cells": [
  {
   "cell_type": "code",
   "execution_count": 1,
   "metadata": {},
   "outputs": [],
   "source": [
    "import torch\n",
    "import torchvision\n",
    "import torchvision.transforms as transforms\n",
    "from torch.utils.data import DataLoader\n",
    "\n",
    "# Define data transformations (convert images to tensors & normalize)\n",
    "transform = transforms.Compose([\n",
    "    transforms.ToTensor(),\n",
    "    transforms.Normalize((0.5,), (0.5,))  # Normalize pixel values to [-1, 1]\n",
    "])\n",
    "\n",
    "# Download MNIST dataset\n",
    "train_dataset = torchvision.datasets.MNIST(root=\"./data\", train=True, transform=transform, download=True)\n",
    "test_dataset = torchvision.datasets.MNIST(root=\"./data\", train=False, transform=transform, download=True)\n",
    "\n",
    "# Create data loaders\n",
    "train_loader = DataLoader(train_dataset, batch_size=64, shuffle=True)\n",
    "test_loader = DataLoader(test_dataset, batch_size=64, shuffle=False)"
   ]
  },
  {
   "cell_type": "code",
   "execution_count": 4,
   "metadata": {},
   "outputs": [
    {
     "data": {
      "text/plain": [
       "<All keys matched successfully>"
      ]
     },
     "execution_count": 4,
     "metadata": {},
     "output_type": "execute_result"
    }
   ],
   "source": [
    "import torch\n",
    "import torch.nn as nn\n",
    "import torch.nn.functional as F\n",
    "\n",
    "class MNIST_Net(nn.Module):\n",
    "    def __init__(self):\n",
    "        super(MNIST_Net, self).__init__()\n",
    "        self.l2 = nn.Linear(28 * 28, 128, bias=True)  # Input: 784 → Hidden: 128\n",
    "        self.l3 = nn.Linear(128, 64, bias=True)       # Hidden: 128 → Hidden: 64\n",
    "        self.l4 = nn.Linear(64, 10, bias=True)        # Hidden: 64 → Output: 10\n",
    "\n",
    "        # Unique weights for each of the 784 input activations\n",
    "        self.custom_weights = nn.Parameter(torch.randn(28 * 28)) \n",
    "\n",
    "    def forward(self, im):\n",
    "        \n",
    "        l1 = im.view(-1, 28 * 28) \n",
    "\n",
    "        l2 = F.relu(self.l2(l1))\n",
    "\n",
    "        l3 = torch.matmul(l2, self.l3.weight.T)\n",
    "        weighted_sum = (self.custom_weights * l1).sum(dim=1) \n",
    "        l3[:, 0] += weighted_sum \n",
    "        l3 += self.l3.bias \n",
    "        l3 = F.relu(l3)\n",
    "\n",
    "        l4 = self.l4(l3)\n",
    "        \n",
    "        return l4\n",
    "\n",
    "# Initialize model\n",
    "model = MNIST_Net()\n",
    "device = torch.device(\"cuda\" if torch.cuda.is_available() else \"cpu\")\n",
    "model.to(device)\n",
    "model.load_state_dict(torch.load(\"model_weights-c.pth\"))\n"
   ]
  },
  {
   "cell_type": "code",
   "execution_count": 29,
   "metadata": {},
   "outputs": [
    {
     "name": "stdout",
     "output_type": "stream",
     "text": [
      "Epoch 1/5, Loss: 0.2921\n",
      "Epoch 2/5, Loss: 0.1129\n",
      "Epoch 3/5, Loss: 0.0768\n",
      "Epoch 4/5, Loss: 0.2863\n",
      "Epoch 5/5, Loss: 0.1769\n",
      "Training complete!\n"
     ]
    }
   ],
   "source": [
    "import torch.optim as optim\n",
    "\n",
    "# Define loss function & optimizer\n",
    "criterion = nn.CrossEntropyLoss()\n",
    "optimizer = optim.Adam(model.parameters(), lr=0.001)\n",
    "\n",
    "# Training loop\n",
    "epochs = 5\n",
    "for epoch in range(epochs):\n",
    "    for images, labels in train_loader:\n",
    "        images, labels = images.to(device), labels.to(device)  # Move data to GPU\n",
    "        optimizer.zero_grad()  # Reset gradients\n",
    "        outputs = model(images)\n",
    "        loss = criterion(outputs, labels)  # Compute loss\n",
    "        loss.backward()  # Backpropagation\n",
    "        optimizer.step()  # Update weights\n",
    "\n",
    "    print(f\"Epoch {epoch+1}/{epochs}, Loss: {loss.item():.4f}\")\n",
    "\n",
    "print(\"Training complete!\")\n",
    "\n",
    "# Save the model's state_dict\n",
    "torch.save(model.state_dict(), \"./model_weights-c.pth\")\n"
   ]
  },
  {
   "cell_type": "code",
   "execution_count": 5,
   "metadata": {},
   "outputs": [
    {
     "name": "stdout",
     "output_type": "stream",
     "text": [
      "Test Accuracy: 96.47%\n"
     ]
    }
   ],
   "source": [
    "correct = 0\n",
    "total = 0\n",
    "\n",
    "with torch.no_grad():  # Disable gradient calculations\n",
    "    for images, labels in test_loader:\n",
    "        images, labels = images.to(device), labels.to(device)\n",
    "        outputs = model(images)\n",
    "        _, predicted = torch.max(outputs, 1)  # Get predicted class\n",
    "        total += labels.size(0)\n",
    "        correct += (predicted == labels).sum().item()\n",
    "\n",
    "accuracy = 100 * correct / total\n",
    "print(f\"Test Accuracy: {accuracy:.2f}%\")"
   ]
  },
  {
   "cell_type": "code",
   "execution_count": 83,
   "metadata": {},
   "outputs": [
    {
     "name": "stdout",
     "output_type": "stream",
     "text": [
      "torch.Size([128, 784]) torch.Size([64, 128]) torch.Size([10, 64])\n"
     ]
    }
   ],
   "source": [
    "print(model.l2.weight.shape, model.l3.weight.shape, model.l4.weight.shape)"
   ]
  },
  {
   "cell_type": "code",
   "execution_count": 26,
   "metadata": {},
   "outputs": [
    {
     "name": "stdout",
     "output_type": "stream",
     "text": [
      "tensor(0.0065, grad_fn=<SelectBackward0>)\n",
      "tensor(0.0002, grad_fn=<SelectBackward0>)\n",
      "tensor(7.0503e-06, grad_fn=<SelectBackward0>)\n",
      "torch.Size([784]) torch.Size([128]) torch.Size([64]) torch.Size([10])\n"
     ]
    }
   ],
   "source": [
    "# Step 1: Get absolute values of (weight * grad)\n",
    "l2 = (model.l2.weight.grad.abs() * model.l2.weight.abs())\n",
    "l3 = (model.l3.weight.grad.abs() * model.l3.weight.abs())\n",
    "c = (model.custom_weights.grad.abs() * model.custom_weights.abs())\n",
    "l4 = (model.l4.weight.grad.abs() * model.l4.weight.abs())\n",
    "\n",
    "# Step 2: Sum over the rows (dim=0), resulting in a tensor of shape (784,)\n",
    "l1 = l2.sum(dim=0)  # Outgoing importance from l1\n",
    "l2 = l3.sum(dim=0) + l2.sum(dim=1)  # Incoming + outgoing for l2\n",
    "l3 = l4.sum(dim=0) + l3.sum(dim=1)  # Incoming + outgoing for l3\n",
    "l3[0] = l3[0] + c.sum()  # Add custom weight importance to neuron 0\n",
    "print(l3[0])\n",
    "l4 = l4.sum(dim=1)  # Incoming for l4\n",
    "\n",
    "# Step 3: Normalize by the number of connections (incoming + outgoing)\n",
    "l1 = l1 / 128  # Only outgoing connections from l1\n",
    "l2 = l2 / (64 + 784)  # Incoming from l1 + outgoing to l3\n",
    "l3[1:] = l3[1:] / (10 + 128)  # Incoming from l2 + outgoing to l4\n",
    "print(l3[1])\n",
    "l3[0] = l3[0] / (10 + 128 + 784)  # Incoming + outgoing + custom weights\n",
    "print(l3[0])\n",
    "l4 = l4 / 10  # Only incoming connections for l4\n",
    "\n",
    "# Print the result\n",
    "print(l1.shape, l2.shape, l3.shape, l4.shape)  \n"
   ]
  },
  {
   "cell_type": "code",
   "execution_count": 27,
   "metadata": {},
   "outputs": [
    {
     "data": {
      "image/png": "[encoded data removed]",
      "text/plain": [
       "<Figure size 1000x600 with 1 Axes>"
      ]
     },
     "metadata": {},
     "output_type": "display_data"
    }
   ],
   "source": [
    "import matplotlib.pyplot as plt\n",
    "\n",
    "ns = torch.cat((l1, l2, l3, l4))\n",
    "\n",
    "# Plot the histogram\n",
    "plt.figure(figsize=(10, 6))\n",
    "plt.hist(ns.detach().numpy(), bins=60, color=\"blue\", alpha=0.7)\n",
    "\n",
    "# Add labels and title\n",
    "plt.xlabel('Value')\n",
    "plt.ylabel('Frequency')\n",
    "plt.title('Histogram of Combined Neuron Importance Across Layers')\n",
    "\n",
    "# Show the plot\n",
    "plt.show()"
   ]
  },
  {
   "cell_type": "code",
   "execution_count": null,
   "metadata": {},
   "outputs": [],
   "source": []
  }
 ],
 "metadata": {
  "kernelspec": {
   "display_name": "mnist",
   "language": "python",
   "name": "python3"
  },
  "language_info": {
   "codemirror_mode": {
    "name": "ipython",
    "version": 3
   },
   "file_extension": ".py",
   "mimetype": "text/x-python",
   "name": "python",
   "nbconvert_exporter": "python",
   "pygments_lexer": "ipython3",
   "version": "3.13.2"
  }
 },
 "nbformat": 4,
 "nbformat_minor": 2
}
