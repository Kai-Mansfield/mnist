{
 "cells": [
  {
   "cell_type": "code",
   "execution_count": 1,
   "metadata": {},
   "outputs": [],
   "source": [
    "import torch\n",
    "import torchvision\n",
    "import torchvision.transforms as transforms\n",
    "from torch.utils.data import DataLoader\n",
    "\n",
    "# Define data transformations (convert images to tensors & normalize)\n",
    "transform = transforms.Compose([\n",
    "    transforms.ToTensor(),\n",
    "    transforms.Normalize((0.5,), (0.5,))  # Normalize pixel values to [-1, 1]\n",
    "])\n",
    "\n",
    "# Download MNIST dataset\n",
    "train_dataset = torchvision.datasets.MNIST(root=\"./data\", train=True, transform=transform, download=True)\n",
    "test_dataset = torchvision.datasets.MNIST(root=\"./data\", train=False, transform=transform, download=True)\n",
    "\n",
    "# Create data loaders\n",
    "train_loader = DataLoader(train_dataset, batch_size=64, shuffle=True)\n",
    "test_loader = DataLoader(test_dataset, batch_size=64, shuffle=False)"
   ]
  },
  {
   "cell_type": "code",
   "execution_count": 2,
   "metadata": {},
   "outputs": [
    {
     "name": "stdout",
     "output_type": "stream",
     "text": [
      "Parameter containing:\n",
      "tensor([[ 0.0044, -0.0223,  0.0035,  ...,  0.0217, -0.0098, -0.0018],\n",
      "        [-0.0214,  0.0323,  0.0009,  ..., -0.0172,  0.0256,  0.0183],\n",
      "        [ 0.0279,  0.0050, -0.0190,  ..., -0.0105,  0.0236, -0.0154],\n",
      "        ...,\n",
      "        [ 0.0020, -0.0154,  0.0272,  ..., -0.0048,  0.0306, -0.0227],\n",
      "        [ 0.0070, -0.0200,  0.0262,  ...,  0.0039,  0.0193,  0.0078],\n",
      "        [ 0.0250, -0.0174, -0.0263,  ..., -0.0320, -0.0267, -0.0043]],\n",
      "       requires_grad=True)\n"
     ]
    },
    {
     "data": {
      "text/plain": [
       "MNIST_Net(\n",
       "  (l2): Linear(in_features=784, out_features=128, bias=True)\n",
       "  (l3): Linear(in_features=128, out_features=64, bias=True)\n",
       "  (l4): Linear(in_features=64, out_features=10, bias=True)\n",
       ")"
      ]
     },
     "execution_count": 2,
     "metadata": {},
     "output_type": "execute_result"
    }
   ],
   "source": [
    "import torch\n",
    "import torch.nn as nn\n",
    "import torch.nn.functional as F\n",
    "\n",
    "class MNIST_Net(nn.Module):\n",
    "    def __init__(self):\n",
    "        super(MNIST_Net, self).__init__()\n",
    "        self.l2 = nn.Linear(28 * 28, 128)  # Input: 784 → Hidden: 128\n",
    "        print(self.l2.weight)\n",
    "        self.l3 = nn.Linear(128, 64)       # Hidden: 128 → Hidden: 64\n",
    "        self.l4 = nn.Linear(64, 10)        # Hidden: 64 → Output: 10\n",
    "\n",
    "    def forward(self, im):\n",
    "        l1 = im.view(-1, 28 * 28)  # Flatten input\n",
    "        l2 = F.relu(self.l2(l1))  \n",
    "        l3 = F.relu(self.l3(l2))  \n",
    "        l4 = self.l4(l3)\n",
    "        return l4\n",
    "\n",
    "# Initialize model\n",
    "model = MNIST_Net()\n",
    "device = torch.device(\"cuda\" if torch.cuda.is_available() else \"cpu\")\n",
    "model.to(device)\n",
    "\n",
    "# Load model weights, allowing missing keys if needed\n",
    "# state_dict = torch.load(\"model_weights.pth\", map_location=torch.device('cpu'))\n",
    "# model.load_state_dict(state_dict, strict=False)\n"
   ]
  },
  {
   "cell_type": "code",
   "execution_count": 3,
   "metadata": {},
   "outputs": [
    {
     "name": "stdout",
     "output_type": "stream",
     "text": [
      "Epoch 1/5, Loss: 0.1543\n",
      "Epoch 2/5, Loss: 0.0511\n",
      "Epoch 3/5, Loss: 0.1897\n",
      "Epoch 4/5, Loss: 0.0450\n",
      "Epoch 5/5, Loss: 0.1315\n",
      "Training complete!\n"
     ]
    }
   ],
   "source": [
    "import torch.optim as optim\n",
    "\n",
    "# Define loss function & optimizer\n",
    "criterion = nn.CrossEntropyLoss()\n",
    "optimizer = optim.Adam(model.parameters(), lr=0.001)\n",
    "\n",
    "# Training loop\n",
    "epochs = 5\n",
    "for epoch in range(epochs):\n",
    "    for images, labels in train_loader:\n",
    "        images, labels = images.to(device), labels.to(device)  # Move data to GPU\n",
    "        optimizer.zero_grad()  # Reset gradients\n",
    "        outputs = model(images)\n",
    "        loss = criterion(outputs, labels)  # Compute loss\n",
    "        loss.backward()  # Backpropagation\n",
    "        optimizer.step()  # Update weights\n",
    "\n",
    "    print(f\"Epoch {epoch+1}/{epochs}, Loss: {loss.item():.4f}\")\n",
    "\n",
    "print(\"Training complete!\")\n",
    "\n",
    "# Save the model's state_dict\n",
    "torch.save(model.state_dict(), \"./model_weights.pth\")\n"
   ]
  },
  {
   "cell_type": "code",
   "execution_count": 4,
   "metadata": {},
   "outputs": [
    {
     "name": "stdout",
     "output_type": "stream",
     "text": [
      "Test Accuracy: 95.80%\n"
     ]
    }
   ],
   "source": [
    "correct = 0\n",
    "total = 0\n",
    "\n",
    "with torch.no_grad():  # Disable gradient calculations\n",
    "    for images, labels in test_loader:\n",
    "        images, labels = images.to(device), labels.to(device)\n",
    "        outputs = model(images)\n",
    "        _, predicted = torch.max(outputs, 1)  # Get predicted class\n",
    "        total += labels.size(0)\n",
    "        correct += (predicted == labels).sum().item()\n",
    "\n",
    "accuracy = 100 * correct / total\n",
    "print(f\"Test Accuracy: {accuracy:.2f}%\")"
   ]
  },
  {
   "cell_type": "code",
   "execution_count": 83,
   "metadata": {},
   "outputs": [
    {
     "name": "stdout",
     "output_type": "stream",
     "text": [
      "torch.Size([128, 784]) torch.Size([64, 128]) torch.Size([10, 64])\n"
     ]
    }
   ],
   "source": [
    "print(model.l2.weight.shape, model.l3.weight.shape, model.l4.weight.shape)"
   ]
  },
  {
   "cell_type": "code",
   "execution_count": 6,
   "metadata": {},
   "outputs": [
    {
     "name": "stdout",
     "output_type": "stream",
     "text": [
      "tensor(0.0675, grad_fn=<SelectBackward0>)\n",
      "torch.Size([784]) torch.Size([128]) torch.Size([64]) torch.Size([10])\n"
     ]
    }
   ],
   "source": [
    "# Step 1: Take the absolute value of the tensor\n",
    "l2 = model.l2.weight.abs()\n",
    "l3 = model.l3.weight.abs()\n",
    "l4 = model.l4.weight.abs()\n",
    "\n",
    "# Step 2: Sum over the rows (dim=0), resulting in a tensor of shape (784,)\n",
    "l1 = l2.sum(dim=0)\n",
    "l2 = l3.sum(dim=0) + l2.sum(dim=1)\n",
    "l3 = l4.sum(dim=0) + l3.sum(dim=1)\n",
    "l4 = l4.sum(dim=1)\n",
    "\n",
    "# Step 3: Divide by the number of rows (128) to get the average\n",
    "l1 = l1 / 128\n",
    "l2 = l2 / (64 + 784)\n",
    "l3 = l3 / (10 + 128)\n",
    "print(l3[0])\n",
    "l4 = l4 / 10\n",
    "\n",
    "# Print the result\n",
    "print(l1.shape, l2.shape, l3.shape, l4.shape)  \n"
   ]
  },
  {
   "cell_type": "code",
   "execution_count": 7,
   "metadata": {},
   "outputs": [
    {
     "data": {
      "image/png": "[encoded data removed]",
      "text/plain": [
       "<Figure size 1000x600 with 1 Axes>"
      ]
     },
     "metadata": {},
     "output_type": "display_data"
    }
   ],
   "source": [
    "import matplotlib.pyplot as plt\n",
    "\n",
    "ns = torch.cat((l1, l2, l3, l4))\n",
    "\n",
    "# Plot the histogram\n",
    "plt.figure(figsize=(10, 6))\n",
    "plt.hist(ns.detach().numpy(), bins=60, color=\"blue\", alpha=0.7)\n",
    "\n",
    "# Add labels and title\n",
    "plt.xlabel('Value')\n",
    "plt.ylabel('Frequency')\n",
    "plt.title('Histogram of Combined Neuron Importance Across Layers')\n",
    "\n",
    "# Show the plot\n",
    "plt.show()"
   ]
  },
  {
   "cell_type": "code",
   "execution_count": 8,
   "metadata": {},
   "outputs": [
    {
     "data": {
      "text/plain": [
       "986"
      ]
     },
     "execution_count": 8,
     "metadata": {},
     "output_type": "execute_result"
    }
   ],
   "source": [
    "len(ns)"
   ]
  },
  {
   "cell_type": "code",
   "execution_count": 9,
   "metadata": {},
   "outputs": [
    {
     "data": {
      "text/plain": [
       "389"
      ]
     },
     "execution_count": 9,
     "metadata": {},
     "output_type": "execute_result"
    }
   ],
   "source": [
    "len([x for x in ns if x >= ns.mean()])"
   ]
  },
  {
   "cell_type": "code",
   "execution_count": 10,
   "metadata": {},
   "outputs": [
    {
     "data": {
      "text/plain": [
       "254"
      ]
     },
     "execution_count": 10,
     "metadata": {},
     "output_type": "execute_result"
    }
   ],
   "source": [
    "len([x for x in l1 if x >= ns.mean()])"
   ]
  },
  {
   "cell_type": "code",
   "execution_count": 11,
   "metadata": {},
   "outputs": [
    {
     "data": {
      "text/plain": [
       "64"
      ]
     },
     "execution_count": 11,
     "metadata": {},
     "output_type": "execute_result"
    }
   ],
   "source": [
    "len([x for x in l2 if x >= ns.mean()])"
   ]
  },
  {
   "cell_type": "code",
   "execution_count": 12,
   "metadata": {},
   "outputs": [
    {
     "data": {
      "text/plain": [
       "61"
      ]
     },
     "execution_count": 12,
     "metadata": {},
     "output_type": "execute_result"
    }
   ],
   "source": [
    "len([x for x in l3 if x >= ns.mean()])"
   ]
  },
  {
   "cell_type": "code",
   "execution_count": 13,
   "metadata": {},
   "outputs": [
    {
     "data": {
      "text/plain": [
       "10"
      ]
     },
     "execution_count": 13,
     "metadata": {},
     "output_type": "execute_result"
    }
   ],
   "source": [
    "len([x for x in l4 if x >= ns.mean()])"
   ]
  },
  {
   "cell_type": "code",
   "execution_count": 76,
   "metadata": {},
   "outputs": [],
   "source": [
    "import torch\n",
    "import torch.nn as nn\n",
    "import torch.nn.functional as F\n",
    "\n",
    "def remove_neurons_from_layer(layer, neurons_to_remove):\n",
    "    \"\"\"\n",
    "    Removes specified neurons from a given fully connected layer.\n",
    "    \n",
    "    Args:\n",
    "        layer (nn.Linear): The original layer to modify.\n",
    "        neurons_to_remove (list): List of neuron indices to remove.\n",
    "\n",
    "    Returns:\n",
    "        nn.Linear: A new layer with the specified neurons removed.\n",
    "    \"\"\"\n",
    "    neurons_to_remove = sorted(neurons_to_remove)\n",
    "\n",
    "    # Extract current weights and biases\n",
    "    old_weights = layer.weight.detach().clone()\n",
    "    old_bias = layer.bias.detach().clone()\n",
    "\n",
    "    # Create a mask to keep only the rows we want\n",
    "    keep_indices = [i for i in range(old_weights.shape[0]) if i not in neurons_to_remove]\n",
    "\n",
    "    # Remove the specified rows\n",
    "    new_weights = old_weights[keep_indices, :]\n",
    "    new_bias = old_bias[keep_indices]\n",
    "\n",
    "    # Create new Linear layer with adjusted output size\n",
    "    new_layer = nn.Linear(layer.in_features, len(keep_indices), bias=True)\n",
    "\n",
    "    # Copy the modified weights and biases into the new layer\n",
    "    with torch.no_grad():\n",
    "        new_layer.weight.copy_(new_weights)\n",
    "        new_layer.bias.copy_(new_bias)\n",
    "\n",
    "    return new_layer\n",
    "\n",
    "\n",
    "class CustomNet(nn.Module):\n",
    "    def __init__(self, input_size=784, remove_pixels=[], remove_neurons=[]):\n",
    "        super(CustomNet, self).__init__()\n",
    "\n",
    "        self.remove_pixels = remove_pixels  # Store pixels to remove\n",
    "\n",
    "        # **Step 1: Remove specified neurons from the first hidden layer (l1)**\n",
    "        self.l2 = nn.Linear(input_size - len(self.remove_pixels), 128)  # Adjusted input size\n",
    "        self.l2 = remove_neurons_from_layer(self.l2, r2)  # Apply neuron removal\n",
    "\n",
    "        # **Step 2: Define next layers after neuron removal is applied**\n",
    "        self.l3 = nn.Linear(self.l2.out_features, 64)  # l2 takes the output from l1\n",
    "        self.l3 = remove_neurons_from_layer(self.l3, r3)\n",
    "\n",
    "        self.l4 = nn.Linear(self.l3.out_features, 10)  # l3 takes the output from l2\n",
    "        self.l4 = remove_neurons_from_layer(self.l4, r4)\n",
    "\n",
    "    def forward(self, x):\n",
    "        x = x.view(-1, 784)  # Flatten input (batch_size, 784)\n",
    "\n",
    "        # **Step 1: Remove selected pixels from input layer**\n",
    "        if self.remove_pixels:\n",
    "            keep_indices = [i for i in range(784) if i not in self.remove_pixels]\n",
    "            x = x[:, keep_indices] \n",
    "\n",
    "        # **Step 2: Forward pass through the network**\n",
    "        l2_out = F.relu(self.l2(x))\n",
    "        l3_out = F.relu(self.l3(l2_out))\n",
    "        l4_out = self.l4(l3_out)\n",
    "\n",
    "        return l4_out\n",
    "\n",
    "if len([x for x in l1 if x >= ns.mean()]) > 0: \n",
    "    pixels_to_remove = [i for i, x in enumerate(ns[:len(l1)]) if x < ns.mean()]\n",
    "r2 = [i for i, x in enumerate(ns[len(l1): len(l1) + len(l2)]) if x < ns.mean()]\n",
    "r3 = [i for i, x in enumerate(ns[len(l1) + len(l2): len(l1) + len(l2) + len(l3)]) if x < ns.mean()]\n",
    "r4 = [i for i, x in enumerate(ns[len(l1) + len(l2) + len(l3): len(l1) + len(l2) + len(l3) + len(l4)]) if x < ns.mean()]\n",
    "\n",
    "# Initialize model with adjusted input size and neurons removed\n",
    "model = CustomNet(remove_pixels=pixels_to_remove)\n"
   ]
  },
  {
   "cell_type": "code",
   "execution_count": 61,
   "metadata": {},
   "outputs": [
    {
     "name": "stdout",
     "output_type": "stream",
     "text": [
      "Pixels to remove (input layer): [0, 1, 2, 3, 4, 5, 6, 7, 8, 9, 10, 11, 12, 13, 14, 15, 16, 17, 18, 19, 20, 21, 22, 23, 24, 25, 26, 27, 28, 29, 30, 31, 32, 33, 34, 35, 36, 37, 38, 39, 40, 41, 42, 43, 44, 45, 46, 47, 48, 49, 50, 51, 52, 53, 54, 55, 56, 57, 58, 59, 60, 61, 62, 63, 64, 65, 66, 67, 68, 69, 70, 71, 72, 73, 74, 75, 76, 77, 78, 79, 80, 81, 82, 83, 84, 85, 86, 87, 88, 89, 90, 91, 92, 93, 94, 95, 96, 97, 98, 99, 100, 101, 102, 103, 104, 105, 106, 107, 108, 109, 110, 111, 112, 113, 114, 115, 116, 117, 118, 119, 120, 121, 122, 123, 124, 125, 126, 128, 129, 130, 131, 132, 133, 134, 135, 136, 137, 138, 139, 140, 141, 142, 143, 144, 145, 146, 147, 148, 149, 150, 151, 160, 161, 162, 163, 164, 165, 166, 167, 168, 169, 170, 171, 172, 173, 174, 175, 176, 177, 189, 190, 191, 192, 193, 194, 195, 196, 197, 198, 199, 200, 201, 202, 203, 204, 217, 218, 219, 220, 221, 222, 223, 224, 225, 226, 227, 228, 229, 230, 231, 245, 246, 248, 249, 250, 251, 252, 253, 254, 255, 256, 257, 258, 259, 277, 278, 279, 280, 281, 282, 283, 284, 285, 286, 287, 304, 305, 306, 307, 308, 309, 310, 311, 312, 313, 329, 331, 332, 333, 334, 335, 336, 337, 338, 339, 340, 341, 356, 358, 359, 360, 361, 362, 363, 364, 365, 366, 367, 368, 369, 386, 387, 388, 389, 390, 391, 392, 393, 394, 395, 396, 397, 412, 413, 414, 415, 416, 417, 418, 419, 420, 421, 422, 423, 424, 425, 441, 442, 443, 444, 445, 446, 447, 448, 449, 450, 451, 452, 453, 470, 471, 472, 473, 474, 475, 476, 477, 478, 479, 480, 481, 496, 497, 498, 499, 500, 501, 502, 503, 504, 505, 506, 507, 508, 509, 523, 524, 525, 526, 527, 528, 529, 530, 531, 532, 533, 534, 535, 536, 537, 539, 549, 550, 551, 552, 553, 554, 555, 556, 557, 558, 559, 560, 561, 562, 563, 564, 565, 581, 582, 583, 584, 585, 586, 587, 588, 589, 590, 591, 592, 593, 594, 609, 610, 611, 612, 613, 614, 615, 616, 617, 618, 619, 620, 621, 622, 623, 632, 635, 636, 637, 638, 639, 640, 641, 642, 643, 644, 645, 646, 647, 648, 649, 650, 651, 652, 653, 661, 662, 663, 664, 665, 666, 667, 668, 669, 670, 671, 672, 673, 674, 675, 676, 677, 678, 679, 680, 681, 682, 683, 684, 686, 687, 688, 689, 690, 691, 692, 693, 694, 695, 696, 697, 698, 699, 700, 701, 702, 703, 704, 705, 706, 707, 708, 709, 710, 711, 712, 713, 714, 715, 716, 717, 718, 719, 720, 721, 722, 723, 724, 725, 726, 727, 728, 729, 730, 731, 732, 733, 734, 735, 736, 737, 738, 739, 740, 741, 742, 743, 744, 745, 746, 747, 748, 749, 750, 751, 752, 753, 754, 755, 756, 757, 758, 759, 760, 761, 762, 763, 764, 765, 766, 767, 768, 769, 770, 771, 772, 773, 774, 775, 776, 777, 778, 779, 780, 781, 782, 783]\n",
      "r2 (first hidden layer): [2, 3, 9, 10, 12, 13, 14, 15, 16, 17, 18, 21, 22, 24, 25, 28, 30, 31, 32, 33, 34, 36, 38, 39, 40, 46, 47, 48, 51, 53, 54, 56, 58, 62, 63, 66, 67, 71, 75, 78, 79, 84, 86, 87, 89, 91, 92, 93, 94, 96, 99, 100, 101, 104, 106, 107, 111, 113, 115, 116, 120, 122, 125, 127]\n",
      "r3 (second hidden layer): [44]\n",
      "r4 (output layer): []\n"
     ]
    }
   ],
   "source": [
    "# Find indices of values that are greater than or equal to the mean\n",
    "pixels_to_remove = [i for i, x in enumerate(ns[:784]) if x < ns.mean()]\n",
    "r2 = [i for i, x in enumerate(ns[784: 784 + 128]) if x < ns.mean()]\n",
    "r3 = [i for i, x in enumerate(ns[784 + 128: 784 + 128 + 60]) if x < ns.mean()]\n",
    "r4 = [i for i, x in enumerate(ns[784 + 128 + 60: 784 + 128 + 60 + 10]) if x < ns.mean()]\n",
    "\n",
    "# Print the resulting lists of indices\n",
    "print(\"Pixels to remove (input layer):\", pixels_to_remove)\n",
    "print(\"r2 (first hidden layer):\", r2)\n",
    "print(\"r3 (second hidden layer):\", r3)\n",
    "print(\"r4 (output layer):\", r4)\n"
   ]
  },
  {
   "cell_type": "code",
   "execution_count": null,
   "metadata": {},
   "outputs": [],
   "source": []
  }
 ],
 "metadata": {
  "kernelspec": {
   "display_name": "mnist",
   "language": "python",
   "name": "python3"
  },
  "language_info": {
   "codemirror_mode": {
    "name": "ipython",
    "version": 3
   },
   "file_extension": ".py",
   "mimetype": "text/x-python",
   "name": "python",
   "nbconvert_exporter": "python",
   "pygments_lexer": "ipython3",
   "version": "3.13.2"
  }
 },
 "nbformat": 4,
 "nbformat_minor": 2
}
