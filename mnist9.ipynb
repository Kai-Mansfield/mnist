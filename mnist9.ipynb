{
 "cells": [
  {
   "cell_type": "code",
   "execution_count": 1,
   "metadata": {},
   "outputs": [],
   "source": [
    "import torch\n",
    "import torchvision\n",
    "import torchvision.transforms as transforms\n",
    "from torch.utils.data import DataLoader\n",
    "\n",
    "torch.manual_seed(0)  # Set seed for reproducibility\n",
    "\n",
    "# Define data transformations (convert images to tensors & normalize)\n",
    "transform = transforms.Compose([\n",
    "    transforms.ToTensor(),\n",
    "    transforms.Normalize((0.5,), (0.5,))  # Normalize pixel values to [-1, 1]\n",
    "])\n",
    "\n",
    "# Download MNIST dataset\n",
    "train_dataset = torchvision.datasets.MNIST(root=\"./data\", train=True, transform=transform, download=True)\n",
    "test_dataset = torchvision.datasets.MNIST(root=\"./data\", train=False, transform=transform, download=True)\n",
    "\n",
    "# Create data loaders\n",
    "train_loader = DataLoader(train_dataset, batch_size=64, shuffle=True)\n",
    "test_loader = DataLoader(test_dataset, batch_size=64, shuffle=False)"
   ]
  },
  {
   "cell_type": "code",
   "execution_count": 26,
   "metadata": {},
   "outputs": [
    {
     "data": {
      "text/plain": [
       "MNIST_Net(\n",
       "  (l2): Linear(in_features=784, out_features=128, bias=True)\n",
       "  (l3): Linear(in_features=128, out_features=64, bias=True)\n",
       "  (l4): Linear(in_features=64, out_features=10, bias=True)\n",
       ")"
      ]
     },
     "execution_count": 26,
     "metadata": {},
     "output_type": "execute_result"
    }
   ],
   "source": [
    "import torch\n",
    "import torch.nn as nn\n",
    "import torch.nn.functional as F\n",
    "\n",
    "class MNIST_Net(nn.Module):\n",
    "    def __init__(self):\n",
    "        super(MNIST_Net, self).__init__()\n",
    "        self.l2 = nn.Linear(28 * 28, 128)  # Input: 784 pixels → Hidden: 128 neurons\n",
    "        self.l3 = nn.Linear(128, 64)       # Hidden: 128 → Hidden: 64 neurons\n",
    "        self.l4 = nn.Linear(64, 10)        # Hidden: 64 → Output: 10 (digits 0-9)\n",
    "\n",
    "        torch.manual_seed(0)  # Set seed for reproducibility\n",
    "\n",
    "        # Create unique learnable parameters for each input neuron -> first neuron in l3\n",
    "        self.custom_weights = nn.Parameter(torch.randn(28 * 28))  # (784,) one per input neuron\n",
    "\n",
    "    def forward(self, im):\n",
    "        l1 = im.view(-1, 28*28)  # Flatten input\n",
    "        l2 = F.relu(self.l2(l1))  \n",
    "        l3 = F.relu(self.l3(l2))  \n",
    "\n",
    "        # Modify the first neuron in l3 using weighted sum of all neurons in l1\n",
    "        for i in range(len(im)): \n",
    "            print(l1[i].sum())\n",
    "            break\n",
    "            l3[i, 0] = l3[i, 0] + (self.custom_weights * l1[i]).sum()\n",
    "\n",
    "        l4 = self.l4(l3)\n",
    "        return l4\n",
    "\n",
    "# Initialize model\n",
    "model = MNIST_Net()\n",
    "#model.load_state_dict(torch.load(\"model_weights.pth\", map_location=torch.device('cpu')))\n",
    "\n",
    "# Move model to GPU if available\n",
    "device = torch.device(\"cuda\" if torch.cuda.is_available() else \"cpu\")\n",
    "model.to(device)\n"
   ]
  },
  {
   "cell_type": "code",
   "execution_count": 56,
   "metadata": {},
   "outputs": [
    {
     "name": "stdout",
     "output_type": "stream",
     "text": [
      "Parameter containing:\n",
      "tensor([-1.1258e+00, -1.1524e+00, -2.5058e-01, -4.3388e-01,  8.4871e-01,\n",
      "         6.9201e-01, -3.1601e-01, -2.1152e+00,  3.2227e-01, -1.2633e+00,\n",
      "         3.4998e-01,  3.0813e-01,  1.1984e-01,  1.2377e+00,  1.1168e+00,\n",
      "        -2.4728e-01, -1.3527e+00, -1.6959e+00,  5.6665e-01,  7.9351e-01,\n",
      "         5.9884e-01, -1.5551e+00, -3.4136e-01,  1.8530e+00,  7.5019e-01,\n",
      "        -5.8550e-01, -1.7340e-01,  1.8348e-01,  1.3894e+00,  1.5863e+00,\n",
      "         9.4630e-01, -8.4368e-01, -6.1358e-01,  3.1593e-02, -4.9268e-01,\n",
      "         2.4841e-01,  4.3970e-01,  1.1241e-01,  6.4079e-01,  4.4116e-01,\n",
      "        -1.0231e-01,  7.9244e-01, -2.8967e-01,  5.2507e-02,  5.2286e-01,\n",
      "         2.3022e+00, -1.4689e+00, -1.5867e+00, -6.7309e-01,  8.7283e-01,\n",
      "         1.0554e+00,  1.7784e-01, -2.3034e-01, -3.9175e-01,  5.4329e-01,\n",
      "        -3.9516e-01, -4.4622e-01,  7.4402e-01,  1.5210e+00,  3.4105e+00,\n",
      "        -1.5312e+00, -1.2341e+00,  1.8197e+00, -5.5153e-01, -5.6925e-01,\n",
      "         9.1997e-01,  1.1108e+00,  1.2899e+00, -1.4782e+00,  2.5672e+00,\n",
      "        -4.7312e-01,  3.3555e-01, -1.6293e+00, -5.4974e-01, -4.7983e-01,\n",
      "        -4.9968e-01, -1.0670e+00,  1.1149e+00, -1.4067e-01,  8.0575e-01,\n",
      "        -9.3348e-02,  6.8705e-01, -8.3832e-01,  8.9182e-04,  8.4189e-01,\n",
      "        -4.0003e-01,  1.0395e+00,  3.5815e-01, -2.4600e-01,  2.3025e+00,\n",
      "        -1.8817e+00, -4.9727e-02, -1.0450e+00, -9.5650e-01,  3.3532e-02,\n",
      "         7.1009e-01,  1.6459e+00, -1.3602e+00,  3.4457e-01,  5.1987e-01,\n",
      "        -2.6133e+00, -1.6965e+00, -2.2824e-01,  2.7995e-01,  2.4693e-01,\n",
      "         7.6887e-02,  3.3801e-01,  4.5440e-01,  4.5694e-01, -8.6537e-01,\n",
      "         7.8131e-01, -9.2679e-01, -2.1883e-01, -2.4351e+00, -7.2915e-02,\n",
      "        -3.3986e-02,  9.6252e-01,  3.4917e-01, -9.2146e-01, -5.6195e-02,\n",
      "        -6.2270e-01, -4.6372e-01,  1.9218e+00, -4.0255e-01,  1.2390e-01,\n",
      "         1.1648e+00,  9.2337e-01,  1.3873e+00, -8.8338e-01, -4.1891e-01,\n",
      "        -8.0483e-01,  5.6561e-01,  6.1036e-01,  4.6688e-01,  1.9507e+00,\n",
      "        -1.0631e+00, -7.7326e-02,  1.1640e-01, -5.9399e-01, -1.2439e+00,\n",
      "        -1.0209e-01, -1.0335e+00, -3.1264e-01,  2.4579e-01, -2.5964e-01,\n",
      "         1.1834e-01,  2.4396e-01,  1.1646e+00,  2.8858e-01,  3.8660e-01,\n",
      "        -2.0106e-01, -1.1793e-01,  1.9220e-01, -7.7216e-01, -1.9003e+00,\n",
      "         1.3068e-01, -7.0429e-01,  3.1472e-01,  1.5739e-01,  3.8536e-01,\n",
      "         9.6715e-01, -9.9108e-01,  3.0161e-01, -1.0732e-01,  9.9846e-01,\n",
      "        -4.9871e-01,  7.6111e-01,  6.1830e-01,  3.1405e-01,  2.1333e-01,\n",
      "        -1.2005e-01,  3.6046e-01, -3.1403e-01, -1.0787e+00,  2.4081e-01,\n",
      "        -1.3962e+00, -6.6144e-02, -3.5836e-01, -1.5616e+00, -3.5464e-01,\n",
      "         1.0811e+00,  1.3148e-01,  1.5735e+00,  7.8143e-01, -1.0787e+00,\n",
      "        -7.2091e-01,  1.4708e+00,  2.7564e-01,  6.6678e-01, -9.9439e-01,\n",
      "        -1.1894e+00, -1.1959e+00, -5.5963e-01,  5.3347e-01,  4.0689e-01,\n",
      "         3.9459e-01,  1.7151e-01,  8.7604e-01, -2.8709e-01,  1.0216e+00,\n",
      "        -7.4395e-02, -1.0922e+00,  3.9203e-01,  5.9453e-01,  6.6227e-01,\n",
      "        -1.2063e+00,  6.0744e-01, -5.4716e-01,  1.1711e+00,  9.7496e-02,\n",
      "         9.6337e-01,  8.4032e-01, -1.2537e+00,  9.8684e-01, -4.9466e-01,\n",
      "        -1.2830e+00,  9.5522e-01,  1.2836e+00, -6.6586e-01,  5.6513e-01,\n",
      "         2.8770e-01, -3.3375e-02, -1.0619e+00, -1.1443e-01, -3.4334e-01,\n",
      "         1.5713e+00,  1.9161e-01,  3.7994e-01, -1.4476e-01,  6.3762e-01,\n",
      "        -2.8129e-01, -1.3299e+00, -1.4201e-01, -5.3415e-01, -5.2338e-01,\n",
      "         8.6150e-01, -8.8696e-01,  8.3877e-01,  1.1529e+00, -1.7611e+00,\n",
      "        -1.4777e+00, -1.7557e+00,  7.6166e-02, -1.0786e+00,  1.4403e+00,\n",
      "        -1.1059e-01,  5.7686e-01, -1.6917e-01, -6.4025e-02,  1.0384e+00,\n",
      "         9.0682e-01, -4.7551e-01, -8.7074e-01,  1.4474e-01,  1.9029e+00,\n",
      "         3.9040e-01, -3.9373e-02, -8.0147e-01, -4.9554e-01, -3.6151e-01,\n",
      "         5.8511e-01, -1.1560e+00, -1.4336e-01, -1.9474e-01, -8.5563e-02,\n",
      "         1.3945e+00,  5.9690e-01, -4.8285e-01, -3.6610e-01, -1.3271e+00,\n",
      "         1.6953e+00,  2.0655e+00, -2.3396e-01,  7.0732e-01,  5.8005e-01,\n",
      "         2.6830e-01, -2.0589e+00,  5.3402e-01, -5.3539e-01, -8.6366e-01,\n",
      "        -2.3494e-02,  1.1717e+00,  3.9869e-01, -1.9872e-01, -1.1559e+00,\n",
      "        -3.1667e-01,  9.4030e-01, -1.1470e+00,  5.5880e-01,  7.9176e-01,\n",
      "        -1.8468e-01, -7.3177e-01, -8.0652e-02, -9.8006e-01,  6.0491e-02,\n",
      "        -4.8895e-01, -8.1373e-01,  8.1999e-01, -6.3317e-01,  1.2948e+00,\n",
      "         1.4628e+00, -6.2043e-01,  9.8839e-01, -4.3218e-01, -6.2322e-01,\n",
      "        -2.1625e-01, -4.8868e-01,  7.8696e-01,  1.0759e-01, -1.0715e+00,\n",
      "        -1.1665e-01, -1.0170e+00, -1.1980e+00,  4.7844e-01, -1.2295e+00,\n",
      "        -1.3700e+00,  1.5435e+00, -3.3207e-02, -4.1863e-01, -2.5560e-01,\n",
      "        -1.2923e-01, -5.4595e-02,  4.0835e-01,  1.1264e+00,  1.9351e+00,\n",
      "         1.0077e+00,  1.0046e+00, -4.3352e-01, -1.2426e+00,  1.2846e+00,\n",
      "         2.4377e-01,  5.3037e-01, -1.4531e-02, -2.2357e+00,  1.4660e+00,\n",
      "        -1.2191e+00,  6.4423e-01,  3.9300e+00, -1.2442e-01,  2.9534e-01,\n",
      "         3.8265e-01, -5.4972e-01, -9.9404e-01,  1.3459e+00,  1.9457e+00,\n",
      "        -1.2904e+00, -2.3495e+00, -2.0689e+00,  9.0942e-01, -6.9462e-01,\n",
      "         1.9595e+00, -1.1038e+00,  5.4114e-01,  1.5390e+00,  1.0860e+00,\n",
      "         1.2464e+00,  1.1508e-01,  1.6193e+00,  4.6369e-01,  1.3007e+00,\n",
      "         8.7323e-01,  6.5127e-02,  7.7324e-01, -9.7014e-01, -8.8768e-01,\n",
      "        -3.1832e-01, -3.3440e-01,  4.5428e-01,  4.9895e-01,  8.7800e-01,\n",
      "         3.8944e-01,  1.4625e+00,  4.7951e-01, -5.3340e-01, -3.4651e-02,\n",
      "         6.5730e-01, -3.1122e-01, -5.6200e-01, -4.8349e-01, -1.2721e+00,\n",
      "        -1.7402e-01,  5.5412e-01, -1.8166e-01, -2.3447e-01,  2.9420e-01,\n",
      "         7.9732e-01,  1.2642e+00,  9.3549e-01,  5.4546e-01, -1.5374e+00,\n",
      "         3.1244e-01,  7.4006e-01,  1.4502e+00,  4.1015e+00,  1.1182e+00,\n",
      "        -1.5668e+00, -6.9898e-01,  5.7439e-01,  1.2381e+00, -6.4054e-01,\n",
      "        -7.6447e-01,  2.4084e-01,  1.6643e-01, -2.2318e+00,  1.3892e+00,\n",
      "        -5.0233e-01,  1.6797e+00, -1.0240e+00,  1.6859e+00, -1.2177e+00,\n",
      "         7.6496e-01,  1.1971e+00, -7.1279e-01, -6.5576e-02,  2.2050e+00,\n",
      "         1.7852e+00, -1.1840e-02,  9.7967e-01, -1.0661e+00,  1.7720e+00,\n",
      "        -2.7926e-01, -2.7690e-01,  7.4893e-01, -6.4346e-01, -9.5176e-01,\n",
      "         2.7152e-01,  6.7158e-01,  1.8500e+00,  1.1910e+00, -5.8986e-01,\n",
      "         9.6469e-01, -1.5094e+00,  2.2557e+00,  1.2288e+00, -4.8546e-01,\n",
      "         4.5357e-01,  1.3514e+00,  4.3393e-01, -5.1325e-01, -1.8603e-01,\n",
      "         2.7566e-01,  1.0969e-01,  3.5942e-01, -7.5374e-01,  2.2940e-01,\n",
      "        -2.5444e-01,  1.5800e+00, -2.4436e-01, -1.1991e+00, -2.5686e-02,\n",
      "         1.8024e+00, -1.0597e+00,  3.4028e+00, -5.6867e-01, -4.7549e-01,\n",
      "         1.7432e+00, -2.0441e-01, -3.1641e-01,  1.2937e+00,  1.3453e+00,\n",
      "         1.9394e-01,  1.5717e+00, -3.8274e-01,  1.3951e+00,  3.4275e-01,\n",
      "        -1.6045e+00, -5.8731e-01,  6.0039e-01,  4.3780e-01, -9.6455e-02,\n",
      "         3.3027e-01, -1.8752e-01, -1.4271e+00,  5.9255e-01, -1.1582e+00,\n",
      "         3.5761e-02,  2.1601e-01, -9.1608e-01,  1.5599e+00, -3.1537e+00,\n",
      "        -5.6110e-01, -4.3030e-01, -3.3323e-01, -1.5464e+00, -1.4717e-02,\n",
      "         1.2251e+00,  1.5936e+00, -1.6315e+00, -5.6877e-02,  6.2966e-01,\n",
      "         2.7117e-01, -6.8598e-01, -1.0918e+00,  1.6797e+00, -8.8082e-01,\n",
      "         5.8003e-01,  3.6423e-01,  8.8134e-02, -1.3069e+00, -7.0637e-01,\n",
      "        -1.6422e-01, -9.7147e-01, -1.0308e+00,  6.4728e-01, -1.9061e-01,\n",
      "         7.1665e-01, -2.0002e+00, -2.4097e+00,  2.1942e-01, -1.6989e+00,\n",
      "         1.3094e+00, -1.6613e+00, -5.4607e-01, -6.3018e-01, -6.3465e-01,\n",
      "         9.7466e-01,  2.0984e-01,  2.9890e-02,  1.7092e+00, -7.2576e-01,\n",
      "        -7.7354e-01,  5.9621e-01, -1.2504e+00,  1.1456e+00,  7.3934e-01,\n",
      "         1.2532e+00, -4.4452e-01,  8.1845e-01, -8.1802e-01,  3.6032e-01,\n",
      "        -1.6146e+00, -2.4734e+00,  3.6156e-02, -3.4222e-01, -3.8169e-01,\n",
      "        -5.6879e-02,  8.4362e-01,  6.8287e-01,  3.3944e+00, -1.6688e+00,\n",
      "         5.1086e-01, -2.8599e-01,  3.3505e-01,  1.1719e+00,  1.2955e+00,\n",
      "         8.9086e-01, -4.8985e-01, -1.1727e+00, -6.8705e-01, -2.3349e+00,\n",
      "         9.4041e-02, -2.0208e-01, -5.9524e-02,  2.0118e+00, -3.3679e-01,\n",
      "         3.2598e-01,  5.3520e-01,  1.9733e+00, -2.0751e-01, -3.0575e-02,\n",
      "         1.2673e-01,  5.5466e-03,  7.9434e-01,  4.0715e-01, -3.6090e-01,\n",
      "         1.3103e+00, -9.6505e-01,  8.8061e-01, -1.0247e-01, -6.7701e-01,\n",
      "        -4.1066e-01, -1.6186e+00,  5.0791e-01,  2.3230e+00,  2.2978e-01,\n",
      "        -5.2965e-01, -8.7331e-01,  4.2614e-03, -1.2579e+00, -1.0845e+00,\n",
      "         7.5298e-01,  3.2365e-01, -2.7501e-01,  1.3056e+00,  2.1175e-01,\n",
      "         2.7196e-01, -9.2684e-01, -2.7330e+00, -5.6417e-01, -2.7400e-01,\n",
      "         1.3978e-01,  5.0856e-01,  2.7710e-01, -9.8125e-01,  8.8885e-01,\n",
      "         1.5690e+00, -8.1853e-02, -3.4940e-01,  2.0243e-01, -2.8838e-01,\n",
      "         1.4830e-01,  2.4187e+00,  1.3279e+00, -2.6386e-01,  3.6447e-01,\n",
      "         2.5440e+00, -2.6895e+00,  2.4426e+00,  1.0375e-02, -9.9649e-01,\n",
      "         9.7850e-01, -4.4144e-01, -2.6104e-01,  7.9798e-01, -1.1071e+00,\n",
      "         2.3306e+00, -7.6502e-01, -4.7497e-01, -4.9526e-01, -1.9836e-01,\n",
      "         2.2149e+00, -1.3669e-01, -1.0182e+00,  1.7841e-01, -5.1359e-01,\n",
      "        -5.6443e-01, -9.1837e-01, -7.4956e-01, -9.4933e-02,  1.1009e+00,\n",
      "         1.3105e+00, -2.9285e-01, -7.8834e-01, -1.6952e-01, -2.1749e+00,\n",
      "         7.2025e-01,  2.8545e-01,  2.2903e-01,  1.2833e+00, -1.3792e+00,\n",
      "         5.4076e-01, -9.4781e-01,  2.0214e-01, -3.5075e-01,  5.4501e-01,\n",
      "         1.5412e+00,  6.0024e-01, -3.3802e-01,  4.0466e-01,  8.9313e-01,\n",
      "        -1.4541e+00,  1.1875e+00, -2.9952e-01,  2.2963e+00,  3.3055e-01,\n",
      "         2.1748e+00, -1.2460e+00,  2.4966e+00, -7.0688e-01,  1.1504e+00,\n",
      "        -5.4977e-01,  8.1552e-01,  2.0005e+00, -4.3935e-01, -4.3190e-01,\n",
      "        -4.7293e-01,  3.2564e-01, -9.7362e-01,  7.9789e-01, -5.7330e-01,\n",
      "         2.0605e-01,  2.1374e-01,  9.5440e-01,  7.3306e-01, -1.4552e+00,\n",
      "        -2.0458e+00, -1.7707e-01,  6.2405e-01, -1.6889e+00,  8.1758e-01,\n",
      "        -3.8960e-01,  1.2776e+00,  5.1468e-01,  3.4852e-01, -1.0379e+00,\n",
      "        -9.5869e-01,  9.1817e-01,  4.8880e-01,  9.8393e-01,  9.9614e-01,\n",
      "        -1.1658e+00, -5.8537e-01, -1.8619e-01, -1.2374e+00,  1.1839e+00,\n",
      "        -1.9545e-01, -1.3366e+00,  1.0511e+00, -1.0269e+00, -2.8750e-01,\n",
      "         1.8480e+00, -2.3950e+00,  4.0770e-01, -1.6989e-01,  5.8418e-01,\n",
      "         1.0504e+00,  1.2856e+00, -1.6165e+00, -7.6896e-01, -1.2205e+00,\n",
      "         5.7313e-01,  6.9920e-01,  2.5106e-01,  2.7845e-01, -9.4634e-02,\n",
      "         1.6104e+00, -1.2166e-01, -1.3941e+00, -9.0479e-01, -3.4670e-01,\n",
      "         7.0494e-01,  3.0545e-02, -8.5424e-01,  5.3882e-01, -5.2649e-01,\n",
      "        -1.3320e+00,  1.5451e+00,  4.0863e-01, -2.0546e+00,  5.2591e-01,\n",
      "         5.9946e-01, -4.0782e-01,  4.5302e-01, -3.9179e-01,  2.1403e+00,\n",
      "        -2.0620e-01, -9.8389e-02,  4.8547e-01,  7.0757e-01,  4.3065e-02,\n",
      "        -4.3944e-01, -6.7611e-01,  1.7389e+00, -9.4229e-01, -1.0646e+00,\n",
      "        -2.2971e-01, -1.2564e+00,  5.5701e-01,  1.5761e-01,  1.0271e+00,\n",
      "         1.2293e+00, -1.2231e-03, -1.8095e+00,  6.9256e-01,  1.1982e+00,\n",
      "         1.3167e+00, -3.4832e-01,  1.2075e+00, -6.4783e-01,  5.2652e-01,\n",
      "        -9.5079e-01, -2.1456e+00,  3.8271e-01, -4.0975e-01, -7.3860e-01,\n",
      "         1.6553e+00,  5.2037e-01, -2.3262e-01,  4.9742e-01,  2.6852e-01,\n",
      "         1.4769e+00,  3.5480e-01,  1.6247e+00,  5.9342e-01, -1.7254e+00,\n",
      "        -6.2202e-01, -6.2494e-03,  8.9520e-01, -7.6999e-03,  4.5172e-02,\n",
      "         5.7934e-01, -1.5825e+00, -5.8779e-01, -1.1398e-01],\n",
      "       requires_grad=True)\n"
     ]
    }
   ],
   "source": [
    "import torch\n",
    "import torch.nn as nn\n",
    "import torch.nn.functional as F\n",
    "\n",
    "class MNIST_Net(nn.Module):\n",
    "    def __init__(self):\n",
    "        super(MNIST_Net, self).__init__()\n",
    "        self.l2 = nn.Linear(28 * 28, 128)  # Input: 784 → Hidden: 128\n",
    "        self.l3 = nn.Linear(128, 64)       # Hidden: 128 → Hidden: 64\n",
    "        self.l4 = nn.Linear(64, 10)        # Hidden: 64 → Output: 10\n",
    "\n",
    "        torch.manual_seed(0)  # For reproducibility\n",
    "\n",
    "        # Unique weights for each of the 784 input activations\n",
    "        self.custom_weights = nn.Parameter(torch.randn(28 * 28))  # Shape: (784,)\n",
    "        print(self.custom_weights)\n",
    "\n",
    "    def forward(self, im):\n",
    "        l1 = im.view(-1, 28 * 28)  # Flatten input\n",
    "        l2 = F.relu(self.l2(l1))  \n",
    "        l3 = F.relu(self.l3(l2))  \n",
    "\n",
    "        # Compute the weighted sum of l1 activations using custom weights\n",
    "        weighted_sum = (self.custom_weights * l1).sum(dim=1) \n",
    "\n",
    "        l3 = l3.clone()  # Clone l3 to avoid in-place modification\n",
    "        l3[:, 0] = l3[:, 0] + weighted_sum\n",
    "\n",
    "        l4 = self.l4(l3)\n",
    "        return l4\n",
    "\n",
    "# Initialize model\n",
    "model = MNIST_Net()\n",
    "\n",
    "# Load model weights, allowing missing keys if needed\n",
    "# state_dict = torch.load(\"model_weights.pth\", map_location=torch.device('cpu'))\n",
    "# model.load_state_dict(state_dict, strict=False)\n"
   ]
  },
  {
   "cell_type": "code",
   "execution_count": 57,
   "metadata": {},
   "outputs": [
    {
     "name": "stdout",
     "output_type": "stream",
     "text": [
      "Epoch 1/5, Loss: 0.3170\n",
      "Epoch 2/5, Loss: 0.1755\n",
      "Epoch 3/5, Loss: 0.0820\n",
      "Epoch 4/5, Loss: 0.2171\n",
      "Epoch 5/5, Loss: 0.0684\n",
      "Training complete!\n"
     ]
    }
   ],
   "source": [
    "import torch.optim as optim\n",
    "\n",
    "# Define loss function & optimizer\n",
    "criterion = nn.CrossEntropyLoss()\n",
    "optimizer = optim.Adam(model.parameters(), lr=0.001)\n",
    "\n",
    "# Training loop\n",
    "epochs = 5\n",
    "for epoch in range(epochs):\n",
    "    for images, labels in train_loader:\n",
    "        images, labels = images.to(device), labels.to(device)  # Move data to GPU\n",
    "        optimizer.zero_grad()  # Reset gradients\n",
    "        outputs = model(images)\n",
    "        loss = criterion(outputs, labels)  # Compute loss\n",
    "        loss.backward()  # Backpropagation\n",
    "        optimizer.step()  # Update weights\n",
    "\n",
    "    print(f\"Epoch {epoch+1}/{epochs}, Loss: {loss.item():.4f}\")\n",
    "\n",
    "print(\"Training complete!\")\n",
    "\n",
    "# Save the model's state_dict\n",
    "torch.save(model.state_dict(), \"./model_weights.pth\")\n"
   ]
  },
  {
   "cell_type": "code",
   "execution_count": 58,
   "metadata": {},
   "outputs": [
    {
     "name": "stdout",
     "output_type": "stream",
     "text": [
      "Test Accuracy: 96.24%\n"
     ]
    }
   ],
   "source": [
    "correct = 0\n",
    "total = 0\n",
    "\n",
    "with torch.no_grad():  # Disable gradient calculations\n",
    "    for images, labels in test_loader:\n",
    "        images, labels = images.to(device), labels.to(device)\n",
    "        outputs = model(images)\n",
    "        _, predicted = torch.max(outputs, 1)  # Get predicted class\n",
    "        total += labels.size(0)\n",
    "        correct += (predicted == labels).sum().item()\n",
    "\n",
    "accuracy = 100 * correct / total\n",
    "print(f\"Test Accuracy: {accuracy:.2f}%\")"
   ]
  },
  {
   "cell_type": "code",
   "execution_count": 63,
   "metadata": {},
   "outputs": [
    {
     "data": {
      "text/plain": [
       "Parameter containing:\n",
       "tensor([-1.1683e+00, -1.1948e+00, -2.9301e-01, -4.7631e-01,  8.0628e-01,\n",
       "         6.4958e-01, -3.5844e-01, -2.1577e+00,  2.7985e-01, -1.3058e+00,\n",
       "         3.0755e-01,  2.6570e-01,  7.7441e-02,  1.1953e+00,  1.0744e+00,\n",
       "        -2.8971e-01, -1.3951e+00, -1.7384e+00,  5.2422e-01,  7.5108e-01,\n",
       "         5.5641e-01, -1.5975e+00, -3.8379e-01,  1.8106e+00,  7.0776e-01,\n",
       "        -6.2792e-01, -2.1583e-01,  1.4105e-01,  1.3469e+00,  1.5439e+00,\n",
       "         9.0387e-01, -8.8610e-01, -6.5601e-01, -1.0826e-02, -5.3408e-01,\n",
       "         2.0845e-01,  4.0016e-01,  7.1105e-02,  5.9930e-01,  4.0028e-01,\n",
       "        -1.4159e-01,  7.5213e-01, -3.3402e-01,  9.5333e-03,  4.8634e-01,\n",
       "         2.2623e+00, -1.5107e+00, -1.6280e+00, -7.1479e-01,  8.3069e-01,\n",
       "         1.0136e+00,  1.3553e-01, -2.7276e-01, -4.3418e-01,  5.0087e-01,\n",
       "        -4.3759e-01, -4.8865e-01,  7.0159e-01,  1.4785e+00,  3.3681e+00,\n",
       "        -1.5736e+00, -1.2766e+00,  1.7772e+00, -5.9104e-01, -6.0493e-01,\n",
       "         8.8564e-01,  1.0774e+00,  1.2577e+00, -1.5100e+00,  2.5241e+00,\n",
       "        -5.1516e-01,  2.8934e-01, -1.6700e+00, -5.9011e-01, -5.2191e-01,\n",
       "        -5.4433e-01, -1.1090e+00,  1.0729e+00, -1.8268e-01,  7.6378e-01,\n",
       "        -1.3532e-01,  6.4492e-01, -8.8074e-01, -4.1537e-02,  7.9947e-01,\n",
       "        -4.4246e-01,  9.9678e-01,  3.1579e-01, -2.8914e-01,  2.2623e+00,\n",
       "        -1.9199e+00, -8.4464e-02, -1.0709e+00, -9.7567e-01,  2.0362e-02,\n",
       "         7.1403e-01,  1.6458e+00, -1.3694e+00,  3.3019e-01,  5.0165e-01,\n",
       "        -2.6162e+00, -1.7060e+00, -2.5599e-01,  2.3166e-01,  1.8992e-01,\n",
       "         1.7321e-02,  2.8578e-01,  4.1103e-01,  4.1669e-01, -9.0855e-01,\n",
       "         7.3945e-01, -9.6922e-01, -2.6126e-01, -2.4775e+00, -1.1616e-01,\n",
       "        -7.6373e-02,  9.2080e-01,  3.1105e-01, -9.5122e-01, -7.8248e-02,\n",
       "        -6.2858e-01, -4.5665e-01,  1.9302e+00, -3.8146e-01,  1.2441e-01,\n",
       "         1.1349e+00,  8.8425e-01,  1.3471e+00, -8.9474e-01, -4.1258e-01,\n",
       "        -8.2299e-01,  4.9628e-01,  5.2424e-01,  3.6390e-01,  1.8647e+00,\n",
       "        -1.1388e+00, -1.3498e-01,  7.1325e-02, -6.3569e-01, -1.2857e+00,\n",
       "        -1.4452e-01, -1.0760e+00, -3.5501e-01,  2.0457e-01, -2.9599e-01,\n",
       "         7.9632e-02,  2.1618e-01,  1.1476e+00,  2.8481e-01,  3.8485e-01,\n",
       "        -1.7815e-01, -1.0047e-01,  1.7903e-01, -7.6956e-01, -1.9163e+00,\n",
       "         1.1986e-01, -6.8076e-01,  3.1625e-01,  1.2153e-01,  3.1479e-01,\n",
       "         8.5860e-01, -1.1048e+00,  1.9249e-01, -2.0436e-01,  9.2456e-01,\n",
       "        -5.4619e-01,  7.1963e-01,  5.7642e-01,  2.7162e-01,  1.7091e-01,\n",
       "        -1.6177e-01,  3.2425e-01, -3.4503e-01, -1.1139e+00,  2.2414e-01,\n",
       "        -1.4059e+00, -7.3447e-02, -3.4703e-01, -1.5269e+00, -3.3457e-01,\n",
       "         1.0766e+00,  1.6202e-01,  1.5866e+00,  8.2736e-01, -9.7442e-01,\n",
       "        -6.7695e-01,  1.4301e+00,  1.7200e-01,  5.4143e-01, -1.0853e+00,\n",
       "        -1.2847e+00, -1.3040e+00, -6.4749e-01,  4.7410e-01,  3.5873e-01,\n",
       "         3.5190e-01,  1.2908e-01,  8.3413e-01, -3.2863e-01,  9.8646e-01,\n",
       "        -9.1541e-02, -1.1166e+00,  3.7865e-01,  5.7040e-01,  6.4956e-01,\n",
       "        -1.2045e+00,  6.1757e-01, -5.1050e-01,  1.2150e+00,  1.7649e-01,\n",
       "         9.8172e-01,  9.1540e-01, -1.1652e+00,  1.0093e+00, -5.2023e-01,\n",
       "        -1.3813e+00,  8.2579e-01,  1.1607e+00, -7.7763e-01,  4.4951e-01,\n",
       "         1.9315e-01, -1.0125e-01, -1.1155e+00, -1.5682e-01, -3.8538e-01,\n",
       "         1.5291e+00,  1.4935e-01,  3.4170e-01, -1.6357e-01,  6.0212e-01,\n",
       "        -3.0706e-01, -1.3566e+00, -1.6380e-01, -5.5651e-01, -4.9626e-01,\n",
       "         8.7688e-01, -8.4055e-01,  8.3211e-01,  1.1561e+00, -1.6706e+00,\n",
       "        -1.3420e+00, -1.6885e+00,  5.2459e-02, -1.1398e+00,  1.3334e+00,\n",
       "        -2.0556e-01,  4.9222e-01, -2.7554e-01, -1.8005e-01,  9.5633e-01,\n",
       "         8.5458e-01, -5.1840e-01, -9.1316e-01,  1.0248e-01,  1.8602e+00,\n",
       "         3.5120e-01, -6.5300e-02, -8.2478e-01, -5.1011e-01, -3.7126e-01,\n",
       "         5.4442e-01, -1.1768e+00, -1.0955e-01, -2.1030e-01, -8.4053e-02,\n",
       "         1.3491e+00,  5.5991e-01, -4.8469e-01, -3.0201e-01, -1.2932e+00,\n",
       "         1.6310e+00,  1.9944e+00, -2.8451e-01,  6.4151e-01,  5.2944e-01,\n",
       "         2.0406e-01, -2.1533e+00,  4.5825e-01, -5.8495e-01, -9.0638e-01,\n",
       "        -6.5907e-02,  1.1294e+00,  3.5764e-01, -2.3268e-01, -1.1892e+00,\n",
       "        -3.3455e-01,  9.4624e-01, -1.1519e+00,  5.0817e-01,  7.4265e-01,\n",
       "        -1.7931e-01, -7.2236e-01, -1.3349e-01, -1.0359e+00,  1.7536e-02,\n",
       "        -5.5637e-01, -8.2637e-01,  8.0084e-01, -6.4709e-01,  1.2451e+00,\n",
       "         1.4524e+00, -6.3783e-01,  9.7901e-01, -4.5629e-01, -6.8929e-01,\n",
       "        -2.8496e-01, -5.3569e-01,  7.4428e-01,  6.5162e-02, -1.1134e+00,\n",
       "        -1.5537e-01, -1.0505e+00, -1.2285e+00,  4.5122e-01, -1.2406e+00,\n",
       "        -1.3971e+00,  1.4905e+00, -4.9021e-02, -3.9800e-01, -2.2432e-01,\n",
       "        -2.1727e-01, -1.1102e-01,  3.5005e-01,  1.0072e+00,  1.8099e+00,\n",
       "         9.5490e-01,  9.9705e-01, -4.0599e-01, -1.2088e+00,  1.2885e+00,\n",
       "         2.4435e-01,  5.1104e-01, -5.3534e-02, -2.2859e+00,  1.4201e+00,\n",
       "        -1.2616e+00,  6.0180e-01,  3.8876e+00, -1.6487e-01,  2.5559e-01,\n",
       "         3.4901e-01, -5.7982e-01, -1.0177e+00,  1.2824e+00,  1.8768e+00,\n",
       "        -1.2539e+00, -2.2774e+00, -2.0768e+00,  7.9376e-01, -7.5595e-01,\n",
       "         1.9152e+00, -1.1949e+00,  4.5183e-01,  1.5080e+00,  1.1058e+00,\n",
       "         1.2774e+00,  1.1535e-01,  1.6157e+00,  4.6575e-01,  1.2908e+00,\n",
       "         8.5691e-01,  2.8074e-02,  7.3079e-01, -1.0119e+00, -9.3011e-01,\n",
       "        -3.6072e-01, -3.7574e-01,  4.1513e-01,  4.5766e-01,  8.3136e-01,\n",
       "         3.4654e-01,  1.3829e+00,  4.0667e-01, -5.5712e-01, -2.7190e-02,\n",
       "         6.0610e-01, -4.0724e-01, -5.7599e-01, -5.2387e-01, -1.3433e+00,\n",
       "        -2.2862e-01,  5.3296e-01, -1.1659e-01, -2.1181e-01,  2.5404e-01,\n",
       "         7.8248e-01,  1.2551e+00,  9.4054e-01,  5.4647e-01, -1.5654e+00,\n",
       "         2.7595e-01,  6.9980e-01,  1.4078e+00,  4.0593e+00,  1.0763e+00,\n",
       "        -1.6062e+00, -7.5128e-01,  5.2134e-01,  1.1897e+00, -7.1592e-01,\n",
       "        -8.5278e-01,  1.6048e-01,  1.0762e-01, -2.2608e+00,  1.3323e+00,\n",
       "        -5.3536e-01,  1.6005e+00, -1.0737e+00,  1.5856e+00, -1.1939e+00,\n",
       "         8.1552e-01,  1.1695e+00, -7.3460e-01, -7.2480e-02,  2.1865e+00,\n",
       "         1.7875e+00, -6.3961e-03,  9.5530e-01, -1.1007e+00,  1.7297e+00,\n",
       "        -3.2170e-01, -3.1878e-01,  7.0651e-01, -6.8651e-01, -9.9647e-01,\n",
       "         2.4287e-01,  6.1938e-01,  1.7552e+00,  1.0711e+00, -7.0517e-01,\n",
       "         8.7084e-01, -1.5578e+00,  2.1934e+00,  1.1794e+00, -5.6676e-01,\n",
       "         3.8252e-01,  1.2709e+00,  4.9222e-01, -4.8088e-01, -1.8980e-01,\n",
       "         2.6416e-01,  8.3213e-02,  3.4860e-01, -7.4592e-01,  2.4215e-01,\n",
       "        -2.7427e-01,  1.5435e+00, -2.8598e-01, -1.2415e+00, -6.7813e-02,\n",
       "         1.7622e+00, -1.0963e+00,  3.3755e+00, -5.8831e-01, -5.2658e-01,\n",
       "         1.6686e+00, -2.9203e-01, -3.8617e-01,  1.2308e+00,  1.3166e+00,\n",
       "         1.5022e-01,  1.5196e+00, -4.6762e-01,  1.2765e+00,  3.0144e-01,\n",
       "        -1.5326e+00, -5.5102e-01,  5.9313e-01,  3.9680e-01, -1.3225e-01,\n",
       "         3.3463e-01, -1.7015e-01, -1.4213e+00,  5.7525e-01, -1.1897e+00,\n",
       "        -5.0088e-03,  1.7358e-01, -9.5844e-01,  1.5208e+00, -3.1822e+00,\n",
       "        -5.8931e-01, -4.6293e-01, -3.9054e-01, -1.5696e+00, -3.4217e-02,\n",
       "         1.1616e+00,  1.5441e+00, -1.6441e+00, -4.5680e-02,  5.9312e-01,\n",
       "         1.3799e-01, -8.2458e-01, -1.1103e+00,  1.7057e+00, -8.6385e-01,\n",
       "         6.0000e-01,  3.1760e-01,  6.8512e-02, -1.2915e+00, -7.0066e-01,\n",
       "        -1.8060e-01, -9.9075e-01, -1.0678e+00,  6.0628e-01, -2.3297e-01,\n",
       "         6.7421e-01, -2.0397e+00, -2.4371e+00,  1.8559e-01, -1.7469e+00,\n",
       "         1.2479e+00, -1.6607e+00, -5.2820e-01, -6.3431e-01, -6.2408e-01,\n",
       "         9.7313e-01,  1.9909e-01, -4.2435e-02,  1.5567e+00, -8.0245e-01,\n",
       "        -7.5767e-01,  6.4244e-01, -1.2015e+00,  1.1695e+00,  6.8476e-01,\n",
       "         1.2379e+00, -4.1906e-01,  8.2511e-01, -8.4223e-01,  3.3100e-01,\n",
       "        -1.6548e+00, -2.5152e+00, -6.2750e-03, -3.8457e-01, -4.2346e-01,\n",
       "        -9.1160e-02,  8.0824e-01,  6.3351e-01,  3.3220e+00, -1.6727e+00,\n",
       "         5.2481e-01, -2.7038e-01,  3.6816e-01,  1.1908e+00,  1.3020e+00,\n",
       "         8.2266e-01, -6.0371e-01, -1.2156e+00, -6.7911e-01, -2.2649e+00,\n",
       "         1.6027e-01, -1.7962e-01, -8.4914e-02,  1.9988e+00, -3.2602e-01,\n",
       "         3.0461e-01,  4.9124e-01,  1.9319e+00, -2.4761e-01, -7.2906e-02,\n",
       "         8.4299e-02, -3.6715e-02,  7.5274e-01,  3.8019e-01, -3.8375e-01,\n",
       "         1.2743e+00, -1.0168e+00,  8.8159e-01, -8.2845e-02, -6.3303e-01,\n",
       "        -3.2350e-01, -1.5429e+00,  4.7831e-01,  2.2389e+00,  1.4533e-01,\n",
       "        -5.6888e-01, -8.8850e-01, -3.2338e-03, -1.2302e+00, -1.1014e+00,\n",
       "         7.2710e-01,  3.0261e-01, -3.1504e-01,  1.2591e+00,  1.6222e-01,\n",
       "         2.2640e-01, -9.6828e-01, -2.7754e+00, -6.0660e-01, -3.1640e-01,\n",
       "         1.0019e-01,  4.7915e-01,  2.4403e-01, -1.0345e+00,  8.4038e-01,\n",
       "         1.5336e+00, -7.3716e-02, -3.1344e-01,  2.8202e-01, -2.0707e-01,\n",
       "         1.3335e-01,  2.3082e+00,  1.1889e+00, -3.6267e-01,  3.4883e-01,\n",
       "         2.5140e+00, -2.6869e+00,  2.4069e+00, -5.4384e-02, -1.0578e+00,\n",
       "         9.2426e-01, -4.8703e-01, -3.1197e-01,  7.5109e-01, -1.1484e+00,\n",
       "         2.2881e+00, -8.0745e-01, -5.1739e-01, -5.3584e-01, -2.3321e-01,\n",
       "         2.1725e+00, -1.8344e-01, -1.0544e+00,  1.3766e-01, -5.1570e-01,\n",
       "        -5.4730e-01, -8.7988e-01, -7.1415e-01, -9.2994e-02,  1.0238e+00,\n",
       "         1.1707e+00, -4.0140e-01, -8.3588e-01, -1.9969e-01, -2.1887e+00,\n",
       "         6.5927e-01,  2.2098e-01,  1.7383e-01,  1.2394e+00, -1.4228e+00,\n",
       "         4.9355e-01, -9.9335e-01,  1.5886e-01, -3.9318e-01,  5.0258e-01,\n",
       "         1.4988e+00,  5.5948e-01, -3.7403e-01,  3.6450e-01,  8.5254e-01,\n",
       "        -1.4791e+00,  1.1641e+00, -3.2972e-01,  2.2249e+00,  2.4611e-01,\n",
       "         2.1284e+00, -1.3104e+00,  2.4072e+00, -8.1848e-01,  1.0442e+00,\n",
       "        -6.2202e-01,  7.7728e-01,  1.9687e+00, -4.9206e-01, -4.8506e-01,\n",
       "        -5.0981e-01,  2.8871e-01, -1.0145e+00,  7.5612e-01, -6.1709e-01,\n",
       "         1.6287e-01,  1.7131e-01,  9.1197e-01,  6.9064e-01, -1.4966e+00,\n",
       "        -2.0854e+00, -2.1285e-01,  5.8999e-01, -1.7097e+00,  7.9672e-01,\n",
       "        -4.2712e-01,  1.2041e+00,  4.3819e-01,  2.7841e-01, -1.0774e+00,\n",
       "        -9.8828e-01,  8.8214e-01,  4.6378e-01,  9.7071e-01,  9.8007e-01,\n",
       "        -1.1969e+00, -6.3009e-01, -2.3116e-01, -1.2778e+00,  1.1432e+00,\n",
       "        -2.3820e-01, -1.3765e+00,  1.0099e+00, -1.0694e+00, -3.2992e-01,\n",
       "         1.8055e+00, -2.4374e+00,  3.6546e-01, -2.1340e-01,  5.4223e-01,\n",
       "         1.0150e+00,  1.2599e+00, -1.6348e+00, -7.8779e-01, -1.2505e+00,\n",
       "         5.4936e-01,  6.7326e-01,  2.3319e-01,  2.5267e-01, -1.2945e-01,\n",
       "         1.5733e+00, -1.4042e-01, -1.4147e+00, -9.3037e-01, -3.6836e-01,\n",
       "         6.7085e-01, -1.3859e-02, -9.0122e-01,  4.9393e-01, -5.6917e-01,\n",
       "        -1.3744e+00,  1.5027e+00,  3.6620e-01, -2.0971e+00,  4.8348e-01,\n",
       "         5.5704e-01, -4.5023e-01,  4.1088e-01, -4.3296e-01,  2.1012e+00,\n",
       "        -2.4466e-01, -1.3477e-01,  4.5056e-01,  6.7809e-01,  1.5164e-02,\n",
       "        -4.6347e-01, -6.9522e-01,  1.7216e+00, -9.6745e-01, -1.0876e+00,\n",
       "        -2.5491e-01, -1.2845e+00,  5.2364e-01,  1.1955e-01,  9.8773e-01,\n",
       "         1.1877e+00, -4.3546e-02, -1.8519e+00,  6.5014e-01,  1.1558e+00,\n",
       "         1.2743e+00, -3.9075e-01,  1.1651e+00, -6.9026e-01,  4.8410e-01,\n",
       "        -9.9322e-01, -2.1880e+00,  3.4050e-01, -4.5083e-01, -7.7983e-01,\n",
       "         1.6132e+00,  4.7959e-01, -2.7394e-01,  4.5649e-01,  2.2699e-01,\n",
       "         1.4371e+00,  3.1421e-01,  1.5839e+00,  5.5229e-01, -1.7653e+00,\n",
       "        -6.6403e-01, -4.8416e-02,  8.5375e-01, -4.9472e-02,  2.8118e-03,\n",
       "         5.3692e-01, -1.6250e+00, -6.3022e-01, -1.5641e-01],\n",
       "       requires_grad=True)"
      ]
     },
     "execution_count": 63,
     "metadata": {},
     "output_type": "execute_result"
    }
   ],
   "source": [
    "model.custom_weights"
   ]
  },
  {
   "cell_type": "code",
   "execution_count": 83,
   "metadata": {},
   "outputs": [
    {
     "name": "stdout",
     "output_type": "stream",
     "text": [
      "torch.Size([128, 784]) torch.Size([64, 128]) torch.Size([10, 64])\n"
     ]
    }
   ],
   "source": [
    "print(model.l2.weight.shape, model.l3.weight.shape, model.l4.weight.shape)"
   ]
  },
  {
   "cell_type": "code",
   "execution_count": 70,
   "metadata": {},
   "outputs": [
    {
     "data": {
      "text/plain": [
       "torch.Size([128])"
      ]
     },
     "execution_count": 70,
     "metadata": {},
     "output_type": "execute_result"
    }
   ],
   "source": [
    "model.l3.weight.abs().sum(dim=0).shape"
   ]
  },
  {
   "cell_type": "code",
   "execution_count": 69,
   "metadata": {},
   "outputs": [
    {
     "name": "stdout",
     "output_type": "stream",
     "text": [
      "tensor(635.5622, grad_fn=<SelectBackward0>)\n",
      "tensor(0.0645, grad_fn=<SelectBackward0>)\n",
      "tensor(0.6893, grad_fn=<SelectBackward0>)\n",
      "torch.Size([784]) torch.Size([128]) torch.Size([64]) torch.Size([10])\n"
     ]
    }
   ],
   "source": [
    "# Step 1: Take the absolute value of the tensor\n",
    "l2 = model.l2.weight.abs()\n",
    "l3 = model.l3.weight.abs()\n",
    "c = model.custom_weights.abs()\n",
    "l4 = model.l4.weight.abs()\n",
    "\n",
    "# Step 2: Sum over the rows (dim=0), resulting in a tensor of shape (784,)\n",
    "l1 = l2.sum(dim=0)\n",
    "l2 = l3.sum(dim=0) + l2.sum(dim=1)\n",
    "l3 = l4.sum(dim=0) + l3.sum(dim=1)\n",
    "l3[0] = l3[0] + c.sum()\n",
    "print(l3[0])\n",
    "l4 = l4.sum(dim=1)\n",
    "\n",
    "# Step 3: Divide by the number of rows (128) to get the average\n",
    "l1 = l1 / 128\n",
    "l2 = l2 / (64 + 784)\n",
    "l3[1:] = l3[1:] / (10 + 128)\n",
    "print(l3[1])\n",
    "l3[0] = l3[0] / (10 + 128 + 784)\n",
    "print(l3[0])\n",
    "l4 = l4 / 10\n",
    "\n",
    "# Print the result\n",
    "print(l1.shape, l2.shape, l3.shape, l4.shape)  \n"
   ]
  },
  {
   "cell_type": "code",
   "execution_count": 71,
   "metadata": {},
   "outputs": [
    {
     "data": {
      "image/png": "[encoded data removed]",
      "text/plain": [
       "<Figure size 1000x600 with 1 Axes>"
      ]
     },
     "metadata": {},
     "output_type": "display_data"
    }
   ],
   "source": [
    "import matplotlib.pyplot as plt\n",
    "\n",
    "ns = torch.cat((l1, l2, l3, l4))\n",
    "\n",
    "# Plot the histogram\n",
    "plt.figure(figsize=(10, 6))\n",
    "plt.hist(ns.detach().numpy(), bins=60, color=\"blue\", alpha=0.7)\n",
    "\n",
    "# Add labels and title\n",
    "plt.xlabel('Value')\n",
    "plt.ylabel('Frequency')\n",
    "plt.title('Histogram of Combined Neuron Importance Across Layers')\n",
    "\n",
    "# Show the plot\n",
    "plt.show()"
   ]
  },
  {
   "cell_type": "code",
   "execution_count": 73,
   "metadata": {},
   "outputs": [
    {
     "data": {
      "text/plain": [
       "tensor(0.0766, grad_fn=<MeanBackward0>)"
      ]
     },
     "execution_count": 73,
     "metadata": {},
     "output_type": "execute_result"
    }
   ],
   "source": [
    "l3.mean()"
   ]
  },
  {
   "cell_type": "code",
   "execution_count": 86,
   "metadata": {},
   "outputs": [
    {
     "data": {
      "text/plain": [
       "986"
      ]
     },
     "execution_count": 86,
     "metadata": {},
     "output_type": "execute_result"
    }
   ],
   "source": [
    "len(ns)"
   ]
  },
  {
   "cell_type": "code",
   "execution_count": 87,
   "metadata": {},
   "outputs": [
    {
     "data": {
      "text/plain": [
       "392"
      ]
     },
     "execution_count": 87,
     "metadata": {},
     "output_type": "execute_result"
    }
   ],
   "source": [
    "len([x for x in ns if x >= ns.mean()])"
   ]
  },
  {
   "cell_type": "code",
   "execution_count": 88,
   "metadata": {},
   "outputs": [
    {
     "data": {
      "text/plain": [
       "255"
      ]
     },
     "execution_count": 88,
     "metadata": {},
     "output_type": "execute_result"
    }
   ],
   "source": [
    "len([x for x in l1 if x >= ns.mean()])"
   ]
  },
  {
   "cell_type": "code",
   "execution_count": 89,
   "metadata": {},
   "outputs": [
    {
     "data": {
      "text/plain": [
       "64"
      ]
     },
     "execution_count": 89,
     "metadata": {},
     "output_type": "execute_result"
    }
   ],
   "source": [
    "len([x for x in l2 if x >= ns.mean()])"
   ]
  },
  {
   "cell_type": "code",
   "execution_count": 90,
   "metadata": {},
   "outputs": [
    {
     "data": {
      "text/plain": [
       "63"
      ]
     },
     "execution_count": 90,
     "metadata": {},
     "output_type": "execute_result"
    }
   ],
   "source": [
    "len([x for x in l3 if x >= ns.mean()])"
   ]
  },
  {
   "cell_type": "code",
   "execution_count": 91,
   "metadata": {},
   "outputs": [
    {
     "data": {
      "text/plain": [
       "10"
      ]
     },
     "execution_count": 91,
     "metadata": {},
     "output_type": "execute_result"
    }
   ],
   "source": [
    "len([x for x in l4 if x >= ns.mean()])"
   ]
  },
  {
   "cell_type": "code",
   "execution_count": 76,
   "metadata": {},
   "outputs": [],
   "source": [
    "import torch\n",
    "import torch.nn as nn\n",
    "import torch.nn.functional as F\n",
    "\n",
    "def remove_neurons_from_layer(layer, neurons_to_remove):\n",
    "    \"\"\"\n",
    "    Removes specified neurons from a given fully connected layer.\n",
    "    \n",
    "    Args:\n",
    "        layer (nn.Linear): The original layer to modify.\n",
    "        neurons_to_remove (list): List of neuron indices to remove.\n",
    "\n",
    "    Returns:\n",
    "        nn.Linear: A new layer with the specified neurons removed.\n",
    "    \"\"\"\n",
    "    neurons_to_remove = sorted(neurons_to_remove)\n",
    "\n",
    "    # Extract current weights and biases\n",
    "    old_weights = layer.weight.detach().clone()\n",
    "    old_bias = layer.bias.detach().clone()\n",
    "\n",
    "    # Create a mask to keep only the rows we want\n",
    "    keep_indices = [i for i in range(old_weights.shape[0]) if i not in neurons_to_remove]\n",
    "\n",
    "    # Remove the specified rows\n",
    "    new_weights = old_weights[keep_indices, :]\n",
    "    new_bias = old_bias[keep_indices]\n",
    "\n",
    "    # Create new Linear layer with adjusted output size\n",
    "    new_layer = nn.Linear(layer.in_features, len(keep_indices), bias=True)\n",
    "\n",
    "    # Copy the modified weights and biases into the new layer\n",
    "    with torch.no_grad():\n",
    "        new_layer.weight.copy_(new_weights)\n",
    "        new_layer.bias.copy_(new_bias)\n",
    "\n",
    "    return new_layer\n",
    "\n",
    "\n",
    "class CustomNet(nn.Module):\n",
    "    def __init__(self, input_size=784, remove_pixels=[], remove_neurons=[]):\n",
    "        super(CustomNet, self).__init__()\n",
    "\n",
    "        self.remove_pixels = remove_pixels  # Store pixels to remove\n",
    "\n",
    "        # **Step 1: Remove specified neurons from the first hidden layer (l1)**\n",
    "        self.l2 = nn.Linear(input_size - len(self.remove_pixels), 128)  # Adjusted input size\n",
    "        self.l2 = remove_neurons_from_layer(self.l2, r2)  # Apply neuron removal\n",
    "\n",
    "        # **Step 2: Define next layers after neuron removal is applied**\n",
    "        self.l3 = nn.Linear(self.l2.out_features, 64)  # l2 takes the output from l1\n",
    "        self.l3 = remove_neurons_from_layer(self.l3, r3)\n",
    "\n",
    "        self.l4 = nn.Linear(self.l3.out_features, 10)  # l3 takes the output from l2\n",
    "        self.l4 = remove_neurons_from_layer(self.l4, r4)\n",
    "\n",
    "    def forward(self, x):\n",
    "        x = x.view(-1, 784)  # Flatten input (batch_size, 784)\n",
    "\n",
    "        # **Step 1: Remove selected pixels from input layer**\n",
    "        if self.remove_pixels:\n",
    "            keep_indices = [i for i in range(784) if i not in self.remove_pixels]\n",
    "            x = x[:, keep_indices] \n",
    "\n",
    "        # **Step 2: Forward pass through the network**\n",
    "        l2_out = F.relu(self.l2(x))\n",
    "        l3_out = F.relu(self.l3(l2_out))\n",
    "        l4_out = self.l4(l3_out)\n",
    "\n",
    "        return l4_out\n",
    "\n",
    "if len([x for x in l1 if x >= ns.mean()]) > 0: \n",
    "    pixels_to_remove = [i for i, x in enumerate(ns[:len(l1)]) if x < ns.mean()]\n",
    "r2 = [i for i, x in enumerate(ns[len(l1): len(l1) + len(l2)]) if x < ns.mean()]\n",
    "r3 = [i for i, x in enumerate(ns[len(l1) + len(l2): len(l1) + len(l2) + len(l3)]) if x < ns.mean()]\n",
    "r4 = [i for i, x in enumerate(ns[len(l1) + len(l2) + len(l3): len(l1) + len(l2) + len(l3) + len(l4)]) if x < ns.mean()]\n",
    "\n",
    "# Initialize model with adjusted input size and neurons removed\n",
    "model = CustomNet(remove_pixels=pixels_to_remove)\n"
   ]
  },
  {
   "cell_type": "code",
   "execution_count": 61,
   "metadata": {},
   "outputs": [
    {
     "name": "stdout",
     "output_type": "stream",
     "text": [
      "Pixels to remove (input layer): [0, 1, 2, 3, 4, 5, 6, 7, 8, 9, 10, 11, 12, 13, 14, 15, 16, 17, 18, 19, 20, 21, 22, 23, 24, 25, 26, 27, 28, 29, 30, 31, 32, 33, 34, 35, 36, 37, 38, 39, 40, 41, 42, 43, 44, 45, 46, 47, 48, 49, 50, 51, 52, 53, 54, 55, 56, 57, 58, 59, 60, 61, 62, 63, 64, 65, 66, 67, 68, 69, 70, 71, 72, 73, 74, 75, 76, 77, 78, 79, 80, 81, 82, 83, 84, 85, 86, 87, 88, 89, 90, 91, 92, 93, 94, 95, 96, 97, 98, 99, 100, 101, 102, 103, 104, 105, 106, 107, 108, 109, 110, 111, 112, 113, 114, 115, 116, 117, 118, 119, 120, 121, 122, 123, 124, 125, 126, 128, 129, 130, 131, 132, 133, 134, 135, 136, 137, 138, 139, 140, 141, 142, 143, 144, 145, 146, 147, 148, 149, 150, 151, 160, 161, 162, 163, 164, 165, 166, 167, 168, 169, 170, 171, 172, 173, 174, 175, 176, 177, 189, 190, 191, 192, 193, 194, 195, 196, 197, 198, 199, 200, 201, 202, 203, 204, 217, 218, 219, 220, 221, 222, 223, 224, 225, 226, 227, 228, 229, 230, 231, 245, 246, 248, 249, 250, 251, 252, 253, 254, 255, 256, 257, 258, 259, 277, 278, 279, 280, 281, 282, 283, 284, 285, 286, 287, 304, 305, 306, 307, 308, 309, 310, 311, 312, 313, 329, 331, 332, 333, 334, 335, 336, 337, 338, 339, 340, 341, 356, 358, 359, 360, 361, 362, 363, 364, 365, 366, 367, 368, 369, 386, 387, 388, 389, 390, 391, 392, 393, 394, 395, 396, 397, 412, 413, 414, 415, 416, 417, 418, 419, 420, 421, 422, 423, 424, 425, 441, 442, 443, 444, 445, 446, 447, 448, 449, 450, 451, 452, 453, 470, 471, 472, 473, 474, 475, 476, 477, 478, 479, 480, 481, 496, 497, 498, 499, 500, 501, 502, 503, 504, 505, 506, 507, 508, 509, 523, 524, 525, 526, 527, 528, 529, 530, 531, 532, 533, 534, 535, 536, 537, 539, 549, 550, 551, 552, 553, 554, 555, 556, 557, 558, 559, 560, 561, 562, 563, 564, 565, 581, 582, 583, 584, 585, 586, 587, 588, 589, 590, 591, 592, 593, 594, 609, 610, 611, 612, 613, 614, 615, 616, 617, 618, 619, 620, 621, 622, 623, 632, 635, 636, 637, 638, 639, 640, 641, 642, 643, 644, 645, 646, 647, 648, 649, 650, 651, 652, 653, 661, 662, 663, 664, 665, 666, 667, 668, 669, 670, 671, 672, 673, 674, 675, 676, 677, 678, 679, 680, 681, 682, 683, 684, 686, 687, 688, 689, 690, 691, 692, 693, 694, 695, 696, 697, 698, 699, 700, 701, 702, 703, 704, 705, 706, 707, 708, 709, 710, 711, 712, 713, 714, 715, 716, 717, 718, 719, 720, 721, 722, 723, 724, 725, 726, 727, 728, 729, 730, 731, 732, 733, 734, 735, 736, 737, 738, 739, 740, 741, 742, 743, 744, 745, 746, 747, 748, 749, 750, 751, 752, 753, 754, 755, 756, 757, 758, 759, 760, 761, 762, 763, 764, 765, 766, 767, 768, 769, 770, 771, 772, 773, 774, 775, 776, 777, 778, 779, 780, 781, 782, 783]\n",
      "r2 (first hidden layer): [2, 3, 9, 10, 12, 13, 14, 15, 16, 17, 18, 21, 22, 24, 25, 28, 30, 31, 32, 33, 34, 36, 38, 39, 40, 46, 47, 48, 51, 53, 54, 56, 58, 62, 63, 66, 67, 71, 75, 78, 79, 84, 86, 87, 89, 91, 92, 93, 94, 96, 99, 100, 101, 104, 106, 107, 111, 113, 115, 116, 120, 122, 125, 127]\n",
      "r3 (second hidden layer): [44]\n",
      "r4 (output layer): []\n"
     ]
    }
   ],
   "source": [
    "# Find indices of values that are greater than or equal to the mean\n",
    "pixels_to_remove = [i for i, x in enumerate(ns[:784]) if x < ns.mean()]\n",
    "r2 = [i for i, x in enumerate(ns[784: 784 + 128]) if x < ns.mean()]\n",
    "r3 = [i for i, x in enumerate(ns[784 + 128: 784 + 128 + 60]) if x < ns.mean()]\n",
    "r4 = [i for i, x in enumerate(ns[784 + 128 + 60: 784 + 128 + 60 + 10]) if x < ns.mean()]\n",
    "\n",
    "# Print the resulting lists of indices\n",
    "print(\"Pixels to remove (input layer):\", pixels_to_remove)\n",
    "print(\"r2 (first hidden layer):\", r2)\n",
    "print(\"r3 (second hidden layer):\", r3)\n",
    "print(\"r4 (output layer):\", r4)\n"
   ]
  },
  {
   "cell_type": "code",
   "execution_count": null,
   "metadata": {},
   "outputs": [],
   "source": []
  }
 ],
 "metadata": {
  "kernelspec": {
   "display_name": "mnist",
   "language": "python",
   "name": "python3"
  },
  "language_info": {
   "codemirror_mode": {
    "name": "ipython",
    "version": 3
   },
   "file_extension": ".py",
   "mimetype": "text/x-python",
   "name": "python",
   "nbconvert_exporter": "python",
   "pygments_lexer": "ipython3",
   "version": "3.13.2"
  }
 },
 "nbformat": 4,
 "nbformat_minor": 2
}
